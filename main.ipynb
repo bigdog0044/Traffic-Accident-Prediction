{
 "cells": [
  {
   "cell_type": "markdown",
   "metadata": {},
   "source": [
    "<h3> Downloading data from kaggle"
   ]
  },
  {
   "cell_type": "code",
   "execution_count": 8,
   "metadata": {},
   "outputs": [],
   "source": [
    "import pandas as pd"
   ]
  },
  {
   "cell_type": "code",
   "execution_count": 9,
   "metadata": {},
   "outputs": [],
   "source": [
    "data = pd.read_csv('dataset_traffic_accident_prediction1.csv')"
   ]
  },
  {
   "cell_type": "code",
   "execution_count": 10,
   "metadata": {},
   "outputs": [
    {
     "data": {
      "text/html": [
       "<div>\n",
       "<style scoped>\n",
       "    .dataframe tbody tr th:only-of-type {\n",
       "        vertical-align: middle;\n",
       "    }\n",
       "\n",
       "    .dataframe tbody tr th {\n",
       "        vertical-align: top;\n",
       "    }\n",
       "\n",
       "    .dataframe thead th {\n",
       "        text-align: right;\n",
       "    }\n",
       "</style>\n",
       "<table border=\"1\" class=\"dataframe\">\n",
       "  <thead>\n",
       "    <tr style=\"text-align: right;\">\n",
       "      <th></th>\n",
       "      <th>Weather</th>\n",
       "      <th>Road_Type</th>\n",
       "      <th>Time_of_Day</th>\n",
       "      <th>Traffic_Density</th>\n",
       "      <th>Speed_Limit</th>\n",
       "      <th>Number_of_Vehicles</th>\n",
       "      <th>Driver_Alcohol</th>\n",
       "      <th>Accident_Severity</th>\n",
       "      <th>Road_Condition</th>\n",
       "      <th>Vehicle_Type</th>\n",
       "      <th>Driver_Age</th>\n",
       "      <th>Driver_Experience</th>\n",
       "      <th>Road_Light_Condition</th>\n",
       "      <th>Accident</th>\n",
       "    </tr>\n",
       "  </thead>\n",
       "  <tbody>\n",
       "    <tr>\n",
       "      <th>0</th>\n",
       "      <td>Rainy</td>\n",
       "      <td>City Road</td>\n",
       "      <td>Morning</td>\n",
       "      <td>1.0</td>\n",
       "      <td>100.0</td>\n",
       "      <td>5.0</td>\n",
       "      <td>0.0</td>\n",
       "      <td>NaN</td>\n",
       "      <td>Wet</td>\n",
       "      <td>Car</td>\n",
       "      <td>51.0</td>\n",
       "      <td>48.0</td>\n",
       "      <td>Artificial Light</td>\n",
       "      <td>0.0</td>\n",
       "    </tr>\n",
       "    <tr>\n",
       "      <th>1</th>\n",
       "      <td>Clear</td>\n",
       "      <td>Rural Road</td>\n",
       "      <td>Night</td>\n",
       "      <td>NaN</td>\n",
       "      <td>120.0</td>\n",
       "      <td>3.0</td>\n",
       "      <td>0.0</td>\n",
       "      <td>Moderate</td>\n",
       "      <td>Wet</td>\n",
       "      <td>Truck</td>\n",
       "      <td>49.0</td>\n",
       "      <td>43.0</td>\n",
       "      <td>Artificial Light</td>\n",
       "      <td>0.0</td>\n",
       "    </tr>\n",
       "    <tr>\n",
       "      <th>2</th>\n",
       "      <td>Rainy</td>\n",
       "      <td>Highway</td>\n",
       "      <td>Evening</td>\n",
       "      <td>1.0</td>\n",
       "      <td>60.0</td>\n",
       "      <td>4.0</td>\n",
       "      <td>0.0</td>\n",
       "      <td>Low</td>\n",
       "      <td>Icy</td>\n",
       "      <td>Car</td>\n",
       "      <td>54.0</td>\n",
       "      <td>52.0</td>\n",
       "      <td>Artificial Light</td>\n",
       "      <td>0.0</td>\n",
       "    </tr>\n",
       "    <tr>\n",
       "      <th>3</th>\n",
       "      <td>Clear</td>\n",
       "      <td>City Road</td>\n",
       "      <td>Afternoon</td>\n",
       "      <td>2.0</td>\n",
       "      <td>60.0</td>\n",
       "      <td>3.0</td>\n",
       "      <td>0.0</td>\n",
       "      <td>Low</td>\n",
       "      <td>Under Construction</td>\n",
       "      <td>Bus</td>\n",
       "      <td>34.0</td>\n",
       "      <td>31.0</td>\n",
       "      <td>Daylight</td>\n",
       "      <td>0.0</td>\n",
       "    </tr>\n",
       "    <tr>\n",
       "      <th>4</th>\n",
       "      <td>Rainy</td>\n",
       "      <td>Highway</td>\n",
       "      <td>Morning</td>\n",
       "      <td>1.0</td>\n",
       "      <td>195.0</td>\n",
       "      <td>11.0</td>\n",
       "      <td>0.0</td>\n",
       "      <td>Low</td>\n",
       "      <td>Dry</td>\n",
       "      <td>Car</td>\n",
       "      <td>62.0</td>\n",
       "      <td>55.0</td>\n",
       "      <td>Artificial Light</td>\n",
       "      <td>1.0</td>\n",
       "    </tr>\n",
       "  </tbody>\n",
       "</table>\n",
       "</div>"
      ],
      "text/plain": [
       "  Weather   Road_Type Time_of_Day  Traffic_Density  Speed_Limit  \\\n",
       "0   Rainy   City Road     Morning              1.0        100.0   \n",
       "1   Clear  Rural Road       Night              NaN        120.0   \n",
       "2   Rainy     Highway     Evening              1.0         60.0   \n",
       "3   Clear   City Road   Afternoon              2.0         60.0   \n",
       "4   Rainy     Highway     Morning              1.0        195.0   \n",
       "\n",
       "   Number_of_Vehicles  Driver_Alcohol Accident_Severity      Road_Condition  \\\n",
       "0                 5.0             0.0               NaN                 Wet   \n",
       "1                 3.0             0.0          Moderate                 Wet   \n",
       "2                 4.0             0.0               Low                 Icy   \n",
       "3                 3.0             0.0               Low  Under Construction   \n",
       "4                11.0             0.0               Low                 Dry   \n",
       "\n",
       "  Vehicle_Type  Driver_Age  Driver_Experience Road_Light_Condition  Accident  \n",
       "0          Car        51.0               48.0     Artificial Light       0.0  \n",
       "1        Truck        49.0               43.0     Artificial Light       0.0  \n",
       "2          Car        54.0               52.0     Artificial Light       0.0  \n",
       "3          Bus        34.0               31.0             Daylight       0.0  \n",
       "4          Car        62.0               55.0     Artificial Light       1.0  "
      ]
     },
     "execution_count": 10,
     "metadata": {},
     "output_type": "execute_result"
    }
   ],
   "source": [
    "data.head()"
   ]
  },
  {
   "cell_type": "code",
   "execution_count": 17,
   "metadata": {},
   "outputs": [
    {
     "ename": "TypeError",
     "evalue": "'method' object is not iterable",
     "output_type": "error",
     "traceback": [
      "\u001b[1;31m---------------------------------------------------------------------------\u001b[0m",
      "\u001b[1;31mTypeError\u001b[0m                                 Traceback (most recent call last)",
      "Cell \u001b[1;32mIn[17], line 1\u001b[0m\n\u001b[1;32m----> 1\u001b[0m \u001b[38;5;28;43msum\u001b[39;49m\u001b[43m(\u001b[49m\u001b[43mdata\u001b[49m\u001b[38;5;241;43m.\u001b[39;49m\u001b[43misnull\u001b[49m\u001b[43m)\u001b[49m\n",
      "\u001b[1;31mTypeError\u001b[0m: 'method' object is not iterable"
     ]
    }
   ],
   "source": [
    "sum(data.isnull)"
   ]
  },
  {
   "cell_type": "code",
   "execution_count": null,
   "metadata": {},
   "outputs": [],
   "source": []
  }
 ],
 "metadata": {
  "kernelspec": {
   "display_name": "Python 3",
   "language": "python",
   "name": "python3"
  },
  "language_info": {
   "codemirror_mode": {
    "name": "ipython",
    "version": 3
   },
   "file_extension": ".py",
   "mimetype": "text/x-python",
   "name": "python",
   "nbconvert_exporter": "python",
   "pygments_lexer": "ipython3",
   "version": "3.10.11"
  }
 },
 "nbformat": 4,
 "nbformat_minor": 2
}

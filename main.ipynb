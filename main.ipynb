{
 "cells": [
  {
   "cell_type": "markdown",
   "metadata": {},
   "source": [
    "kaggle link\n",
    "https://www.kaggle.com/datasets/denkuznetz/traffic-accident-prediction"
   ]
  },
  {
   "cell_type": "code",
   "execution_count": 27,
   "metadata": {},
   "outputs": [],
   "source": [
    "import numpy as np\n",
    "import pandas as pd\n",
    "import matplotlib.pyplot as plt"
   ]
  },
  {
   "cell_type": "markdown",
   "metadata": {},
   "source": [
    "<h2> loading data in </h2>"
   ]
  },
  {
   "cell_type": "code",
   "execution_count": 28,
   "metadata": {},
   "outputs": [],
   "source": [
    "data = pd.read_csv('dataset_traffic_accident_prediction1.csv')"
   ]
  },
  {
   "cell_type": "code",
   "execution_count": 29,
   "metadata": {},
   "outputs": [
    {
     "data": {
      "text/html": [
       "<div>\n",
       "<style scoped>\n",
       "    .dataframe tbody tr th:only-of-type {\n",
       "        vertical-align: middle;\n",
       "    }\n",
       "\n",
       "    .dataframe tbody tr th {\n",
       "        vertical-align: top;\n",
       "    }\n",
       "\n",
       "    .dataframe thead th {\n",
       "        text-align: right;\n",
       "    }\n",
       "</style>\n",
       "<table border=\"1\" class=\"dataframe\">\n",
       "  <thead>\n",
       "    <tr style=\"text-align: right;\">\n",
       "      <th></th>\n",
       "      <th>Weather</th>\n",
       "      <th>Road_Type</th>\n",
       "      <th>Time_of_Day</th>\n",
       "      <th>Traffic_Density</th>\n",
       "      <th>Speed_Limit</th>\n",
       "      <th>Number_of_Vehicles</th>\n",
       "      <th>Driver_Alcohol</th>\n",
       "      <th>Accident_Severity</th>\n",
       "      <th>Road_Condition</th>\n",
       "      <th>Vehicle_Type</th>\n",
       "      <th>Driver_Age</th>\n",
       "      <th>Driver_Experience</th>\n",
       "      <th>Road_Light_Condition</th>\n",
       "      <th>Accident</th>\n",
       "    </tr>\n",
       "  </thead>\n",
       "  <tbody>\n",
       "    <tr>\n",
       "      <th>0</th>\n",
       "      <td>Rainy</td>\n",
       "      <td>City Road</td>\n",
       "      <td>Morning</td>\n",
       "      <td>1.0</td>\n",
       "      <td>100.0</td>\n",
       "      <td>5.0</td>\n",
       "      <td>0.0</td>\n",
       "      <td>NaN</td>\n",
       "      <td>Wet</td>\n",
       "      <td>Car</td>\n",
       "      <td>51.0</td>\n",
       "      <td>48.0</td>\n",
       "      <td>Artificial Light</td>\n",
       "      <td>0.0</td>\n",
       "    </tr>\n",
       "    <tr>\n",
       "      <th>1</th>\n",
       "      <td>Clear</td>\n",
       "      <td>Rural Road</td>\n",
       "      <td>Night</td>\n",
       "      <td>NaN</td>\n",
       "      <td>120.0</td>\n",
       "      <td>3.0</td>\n",
       "      <td>0.0</td>\n",
       "      <td>Moderate</td>\n",
       "      <td>Wet</td>\n",
       "      <td>Truck</td>\n",
       "      <td>49.0</td>\n",
       "      <td>43.0</td>\n",
       "      <td>Artificial Light</td>\n",
       "      <td>0.0</td>\n",
       "    </tr>\n",
       "    <tr>\n",
       "      <th>2</th>\n",
       "      <td>Rainy</td>\n",
       "      <td>Highway</td>\n",
       "      <td>Evening</td>\n",
       "      <td>1.0</td>\n",
       "      <td>60.0</td>\n",
       "      <td>4.0</td>\n",
       "      <td>0.0</td>\n",
       "      <td>Low</td>\n",
       "      <td>Icy</td>\n",
       "      <td>Car</td>\n",
       "      <td>54.0</td>\n",
       "      <td>52.0</td>\n",
       "      <td>Artificial Light</td>\n",
       "      <td>0.0</td>\n",
       "    </tr>\n",
       "    <tr>\n",
       "      <th>3</th>\n",
       "      <td>Clear</td>\n",
       "      <td>City Road</td>\n",
       "      <td>Afternoon</td>\n",
       "      <td>2.0</td>\n",
       "      <td>60.0</td>\n",
       "      <td>3.0</td>\n",
       "      <td>0.0</td>\n",
       "      <td>Low</td>\n",
       "      <td>Under Construction</td>\n",
       "      <td>Bus</td>\n",
       "      <td>34.0</td>\n",
       "      <td>31.0</td>\n",
       "      <td>Daylight</td>\n",
       "      <td>0.0</td>\n",
       "    </tr>\n",
       "    <tr>\n",
       "      <th>4</th>\n",
       "      <td>Rainy</td>\n",
       "      <td>Highway</td>\n",
       "      <td>Morning</td>\n",
       "      <td>1.0</td>\n",
       "      <td>195.0</td>\n",
       "      <td>11.0</td>\n",
       "      <td>0.0</td>\n",
       "      <td>Low</td>\n",
       "      <td>Dry</td>\n",
       "      <td>Car</td>\n",
       "      <td>62.0</td>\n",
       "      <td>55.0</td>\n",
       "      <td>Artificial Light</td>\n",
       "      <td>1.0</td>\n",
       "    </tr>\n",
       "  </tbody>\n",
       "</table>\n",
       "</div>"
      ],
      "text/plain": [
       "  Weather   Road_Type Time_of_Day  Traffic_Density  Speed_Limit  \\\n",
       "0   Rainy   City Road     Morning              1.0        100.0   \n",
       "1   Clear  Rural Road       Night              NaN        120.0   \n",
       "2   Rainy     Highway     Evening              1.0         60.0   \n",
       "3   Clear   City Road   Afternoon              2.0         60.0   \n",
       "4   Rainy     Highway     Morning              1.0        195.0   \n",
       "\n",
       "   Number_of_Vehicles  Driver_Alcohol Accident_Severity      Road_Condition  \\\n",
       "0                 5.0             0.0               NaN                 Wet   \n",
       "1                 3.0             0.0          Moderate                 Wet   \n",
       "2                 4.0             0.0               Low                 Icy   \n",
       "3                 3.0             0.0               Low  Under Construction   \n",
       "4                11.0             0.0               Low                 Dry   \n",
       "\n",
       "  Vehicle_Type  Driver_Age  Driver_Experience Road_Light_Condition  Accident  \n",
       "0          Car        51.0               48.0     Artificial Light       0.0  \n",
       "1        Truck        49.0               43.0     Artificial Light       0.0  \n",
       "2          Car        54.0               52.0     Artificial Light       0.0  \n",
       "3          Bus        34.0               31.0             Daylight       0.0  \n",
       "4          Car        62.0               55.0     Artificial Light       1.0  "
      ]
     },
     "execution_count": 29,
     "metadata": {},
     "output_type": "execute_result"
    }
   ],
   "source": [
    "data.head()"
   ]
  },
  {
   "cell_type": "markdown",
   "metadata": {},
   "source": [
    "<h2> Processing data</h2>"
   ]
  },
  {
   "cell_type": "markdown",
   "metadata": {},
   "source": [
    "working out total null values within each column"
   ]
  },
  {
   "cell_type": "code",
   "execution_count": 30,
   "metadata": {},
   "outputs": [
    {
     "name": "stdout",
     "output_type": "stream",
     "text": [
      "Weather total null values: 42\n",
      "Road_Type total null values: 42\n",
      "Time_of_Day total null values: 42\n",
      "Traffic_Density total null values: 42\n",
      "Speed_Limit total null values: 42\n",
      "Number_of_Vehicles total null values: 42\n",
      "Driver_Alcohol total null values: 42\n",
      "Accident_Severity total null values: 42\n",
      "Road_Condition total null values: 42\n",
      "Vehicle_Type total null values: 42\n",
      "Driver_Age total null values: 42\n",
      "Driver_Experience total null values: 42\n",
      "Road_Light_Condition total null values: 42\n",
      "Accident total null values: 42\n"
     ]
    }
   ],
   "source": [
    "for column in data.columns:\n",
    "    print(f\"{column} total null values: {sum(data[column].isnull())}\")"
   ]
  },
  {
   "cell_type": "markdown",
   "metadata": {},
   "source": [
    "removing null values"
   ]
  },
  {
   "cell_type": "code",
   "execution_count": 31,
   "metadata": {},
   "outputs": [],
   "source": [
    "data = data.dropna()"
   ]
  },
  {
   "cell_type": "code",
   "execution_count": 32,
   "metadata": {},
   "outputs": [],
   "source": [
    "#converting columns into a integer and not a float\n",
    "data['Driver_Age'] = data['Driver_Age'].astype(int)\n",
    "data['Number_of_Vehicles'] = data['Number_of_Vehicles'].astype(int)\n",
    "data['Driver_Experience'] = data['Driver_Experience'].astype(int)\n",
    "data['Driver_Alcohol'] = data['Driver_Alcohol'].astype(int)\n",
    "data['Traffic_Density'] = data['Traffic_Density'].astype(int)\n",
    "data['Accident'] = data['Accident'].astype(int)"
   ]
  },
  {
   "cell_type": "code",
   "execution_count": 33,
   "metadata": {},
   "outputs": [
    {
     "data": {
      "text/html": [
       "<div>\n",
       "<style scoped>\n",
       "    .dataframe tbody tr th:only-of-type {\n",
       "        vertical-align: middle;\n",
       "    }\n",
       "\n",
       "    .dataframe tbody tr th {\n",
       "        vertical-align: top;\n",
       "    }\n",
       "\n",
       "    .dataframe thead th {\n",
       "        text-align: right;\n",
       "    }\n",
       "</style>\n",
       "<table border=\"1\" class=\"dataframe\">\n",
       "  <thead>\n",
       "    <tr style=\"text-align: right;\">\n",
       "      <th></th>\n",
       "      <th>Weather</th>\n",
       "      <th>Road_Type</th>\n",
       "      <th>Time_of_Day</th>\n",
       "      <th>Traffic_Density</th>\n",
       "      <th>Speed_Limit</th>\n",
       "      <th>Number_of_Vehicles</th>\n",
       "      <th>Driver_Alcohol</th>\n",
       "      <th>Accident_Severity</th>\n",
       "      <th>Road_Condition</th>\n",
       "      <th>Vehicle_Type</th>\n",
       "      <th>Driver_Age</th>\n",
       "      <th>Driver_Experience</th>\n",
       "      <th>Road_Light_Condition</th>\n",
       "      <th>Accident</th>\n",
       "    </tr>\n",
       "  </thead>\n",
       "  <tbody>\n",
       "    <tr>\n",
       "      <th>2</th>\n",
       "      <td>Rainy</td>\n",
       "      <td>Highway</td>\n",
       "      <td>Evening</td>\n",
       "      <td>1</td>\n",
       "      <td>60.0</td>\n",
       "      <td>4</td>\n",
       "      <td>0</td>\n",
       "      <td>Low</td>\n",
       "      <td>Icy</td>\n",
       "      <td>Car</td>\n",
       "      <td>54</td>\n",
       "      <td>52</td>\n",
       "      <td>Artificial Light</td>\n",
       "      <td>0</td>\n",
       "    </tr>\n",
       "    <tr>\n",
       "      <th>3</th>\n",
       "      <td>Clear</td>\n",
       "      <td>City Road</td>\n",
       "      <td>Afternoon</td>\n",
       "      <td>2</td>\n",
       "      <td>60.0</td>\n",
       "      <td>3</td>\n",
       "      <td>0</td>\n",
       "      <td>Low</td>\n",
       "      <td>Under Construction</td>\n",
       "      <td>Bus</td>\n",
       "      <td>34</td>\n",
       "      <td>31</td>\n",
       "      <td>Daylight</td>\n",
       "      <td>0</td>\n",
       "    </tr>\n",
       "    <tr>\n",
       "      <th>4</th>\n",
       "      <td>Rainy</td>\n",
       "      <td>Highway</td>\n",
       "      <td>Morning</td>\n",
       "      <td>1</td>\n",
       "      <td>195.0</td>\n",
       "      <td>11</td>\n",
       "      <td>0</td>\n",
       "      <td>Low</td>\n",
       "      <td>Dry</td>\n",
       "      <td>Car</td>\n",
       "      <td>62</td>\n",
       "      <td>55</td>\n",
       "      <td>Artificial Light</td>\n",
       "      <td>1</td>\n",
       "    </tr>\n",
       "    <tr>\n",
       "      <th>6</th>\n",
       "      <td>Foggy</td>\n",
       "      <td>Highway</td>\n",
       "      <td>Afternoon</td>\n",
       "      <td>0</td>\n",
       "      <td>60.0</td>\n",
       "      <td>4</td>\n",
       "      <td>0</td>\n",
       "      <td>Low</td>\n",
       "      <td>Dry</td>\n",
       "      <td>Truck</td>\n",
       "      <td>27</td>\n",
       "      <td>26</td>\n",
       "      <td>Daylight</td>\n",
       "      <td>1</td>\n",
       "    </tr>\n",
       "    <tr>\n",
       "      <th>7</th>\n",
       "      <td>Rainy</td>\n",
       "      <td>City Road</td>\n",
       "      <td>Afternoon</td>\n",
       "      <td>0</td>\n",
       "      <td>60.0</td>\n",
       "      <td>4</td>\n",
       "      <td>0</td>\n",
       "      <td>Low</td>\n",
       "      <td>Dry</td>\n",
       "      <td>Car</td>\n",
       "      <td>29</td>\n",
       "      <td>22</td>\n",
       "      <td>Artificial Light</td>\n",
       "      <td>1</td>\n",
       "    </tr>\n",
       "  </tbody>\n",
       "</table>\n",
       "</div>"
      ],
      "text/plain": [
       "  Weather  Road_Type Time_of_Day  Traffic_Density  Speed_Limit  \\\n",
       "2   Rainy    Highway     Evening                1         60.0   \n",
       "3   Clear  City Road   Afternoon                2         60.0   \n",
       "4   Rainy    Highway     Morning                1        195.0   \n",
       "6   Foggy    Highway   Afternoon                0         60.0   \n",
       "7   Rainy  City Road   Afternoon                0         60.0   \n",
       "\n",
       "   Number_of_Vehicles  Driver_Alcohol Accident_Severity      Road_Condition  \\\n",
       "2                   4               0               Low                 Icy   \n",
       "3                   3               0               Low  Under Construction   \n",
       "4                  11               0               Low                 Dry   \n",
       "6                   4               0               Low                 Dry   \n",
       "7                   4               0               Low                 Dry   \n",
       "\n",
       "  Vehicle_Type  Driver_Age  Driver_Experience Road_Light_Condition  Accident  \n",
       "2          Car          54                 52     Artificial Light         0  \n",
       "3          Bus          34                 31             Daylight         0  \n",
       "4          Car          62                 55     Artificial Light         1  \n",
       "6        Truck          27                 26             Daylight         1  \n",
       "7          Car          29                 22     Artificial Light         1  "
      ]
     },
     "execution_count": 33,
     "metadata": {},
     "output_type": "execute_result"
    }
   ],
   "source": [
    "data.head()"
   ]
  },
  {
   "cell_type": "markdown",
   "metadata": {},
   "source": [
    "<h2 style=\"text-align:center;\"> data visualisation/understanding</h2>"
   ]
  },
  {
   "cell_type": "markdown",
   "metadata": {},
   "source": [
    "<h3 >Sorting out age into categories </h3>"
   ]
  },
  {
   "cell_type": "markdown",
   "metadata": {},
   "source": [
    "working out min and max in age"
   ]
  },
  {
   "cell_type": "code",
   "execution_count": 34,
   "metadata": {},
   "outputs": [
    {
     "name": "stdout",
     "output_type": "stream",
     "text": [
      "Minimum age:  18\n",
      "Maximum age:  69\n"
     ]
    }
   ],
   "source": [
    "print(\"Minimum age: \",data['Driver_Age'].min())\n",
    "print(\"Maximum age: \",data['Driver_Age'].max())"
   ]
  },
  {
   "cell_type": "code",
   "execution_count": 40,
   "metadata": {},
   "outputs": [
    {
     "name": "stdout",
     "output_type": "stream",
     "text": [
      "Driver_Age\n",
      "(55, 69]    112\n",
      "(25, 35]     83\n",
      "(45, 55]     80\n",
      "(35, 45]     73\n",
      "(18, 25]     52\n",
      "Name: count, dtype: int64\n",
      "[(45.0, 55.0], (25.0, 35.0], (55.0, 69.0], (35.0, 45.0], NaN, (18.0, 25.0]]\n",
      "Categories (5, interval[int64, right]): [(18, 25] < (25, 35] < (35, 45] < (45, 55] < (55, 69]]\n"
     ]
    }
   ],
   "source": [
    "bins=[18,25,35,45,55,69]\n",
    "ageGroupLabels = ['18-25','26-35','36-45','46-55','56-69']\n",
    "\n",
    "ageGroups = pd.cut(data['Driver_Age'], bins)\n",
    "\n",
    "print(ageGroups.value_counts())\n",
    "\n",
    "print(data['bins'].unique())\n"
   ]
  },
  {
   "cell_type": "markdown",
   "metadata": {},
   "source": [
    "<h3>Plotting the data</h3>"
   ]
  },
  {
   "cell_type": "code",
   "execution_count": 41,
   "metadata": {},
   "outputs": [
    {
     "data": {
      "text/plain": [
       "Text(0.5, 1.0, 'Weather distribution')"
      ]
     },
     "execution_count": 41,
     "metadata": {},
     "output_type": "execute_result"
    },
    {
     "data": {
      "image/png": "[encoded data removed]",
      "text/plain": [
       "<Figure size 640x480 with 2 Axes>"
      ]
     },
     "metadata": {},
     "output_type": "display_data"
    }
   ],
   "source": [
    "#working out the proportion of each type of condiction\n",
    "\n",
    "fig,ax = plt.subplots(2)\n",
    "\n",
    "wordLabels = [\"Clear\",\"Rainy\",\"Foggy\",\"Snowy\",\"Stormy\"]\n",
    "totalWordArr = np.array([]).astype(int)\n",
    "\n",
    "ageLabels = np.array([]).astype(int)\n",
    "ageArr = np.array([]).astype(int)\n",
    "ageTotal = np.array([]).astype(int)\n",
    "\n",
    "for word in wordLabels:\n",
    "    totalWordArr = np.append(totalWordArr,sum((data['Weather'] == word) == True))\n",
    "    #print(f\"Total amount of rows for {word} {sum((data['Weather'] == word) == True)}\")\n",
    "\n",
    "\n",
    "ax[0].pie(totalWordArr, labels=wordLabels, autopct=\"%1.1f%%\")\n",
    "ax[0].set_title(\"Weather distribution\")"
   ]
  },
  {
   "cell_type": "code",
   "execution_count": 26,
   "metadata": {},
   "outputs": [
    {
     "name": "stdout",
     "output_type": "stream",
     "text": [
      "\u001b[0;31mSignature:\u001b[0m       \u001b[0mnp\u001b[0m\u001b[0;34m.\u001b[0m\u001b[0msize\u001b[0m\u001b[0;34m(\u001b[0m\u001b[0ma\u001b[0m\u001b[0;34m,\u001b[0m \u001b[0maxis\u001b[0m\u001b[0;34m=\u001b[0m\u001b[0;32mNone\u001b[0m\u001b[0;34m)\u001b[0m\u001b[0;34m\u001b[0m\u001b[0;34m\u001b[0m\u001b[0m\n",
      "\u001b[0;31mCall signature:\u001b[0m  \u001b[0mnp\u001b[0m\u001b[0;34m.\u001b[0m\u001b[0msize\u001b[0m\u001b[0;34m(\u001b[0m\u001b[0;34m*\u001b[0m\u001b[0margs\u001b[0m\u001b[0;34m,\u001b[0m \u001b[0;34m**\u001b[0m\u001b[0mkwargs\u001b[0m\u001b[0;34m)\u001b[0m\u001b[0;34m\u001b[0m\u001b[0;34m\u001b[0m\u001b[0m\n",
      "\u001b[0;31mType:\u001b[0m            _ArrayFunctionDispatcher\n",
      "\u001b[0;31mString form:\u001b[0m     <function size at 0x7cdfb40ab2e0>\n",
      "\u001b[0;31mFile:\u001b[0m            ~/.local/lib/python3.12/site-packages/numpy/_core/fromnumeric.py\n",
      "\u001b[0;31mSource:\u001b[0m         \n",
      "\u001b[0;34m@\u001b[0m\u001b[0marray_function_dispatch\u001b[0m\u001b[0;34m(\u001b[0m\u001b[0m_size_dispatcher\u001b[0m\u001b[0;34m)\u001b[0m\u001b[0;34m\u001b[0m\n",
      "\u001b[0;34m\u001b[0m\u001b[0;32mdef\u001b[0m \u001b[0msize\u001b[0m\u001b[0;34m(\u001b[0m\u001b[0ma\u001b[0m\u001b[0;34m,\u001b[0m \u001b[0maxis\u001b[0m\u001b[0;34m=\u001b[0m\u001b[0;32mNone\u001b[0m\u001b[0;34m)\u001b[0m\u001b[0;34m:\u001b[0m\u001b[0;34m\u001b[0m\n",
      "\u001b[0;34m\u001b[0m    \u001b[0;34m\"\"\"\u001b[0m\n",
      "\u001b[0;34m    Return the number of elements along a given axis.\u001b[0m\n",
      "\u001b[0;34m\u001b[0m\n",
      "\u001b[0;34m    Parameters\u001b[0m\n",
      "\u001b[0;34m    ----------\u001b[0m\n",
      "\u001b[0;34m    a : array_like\u001b[0m\n",
      "\u001b[0;34m        Input data.\u001b[0m\n",
      "\u001b[0;34m    axis : int, optional\u001b[0m\n",
      "\u001b[0;34m        Axis along which the elements are counted.  By default, give\u001b[0m\n",
      "\u001b[0;34m        the total number of elements.\u001b[0m\n",
      "\u001b[0;34m\u001b[0m\n",
      "\u001b[0;34m    Returns\u001b[0m\n",
      "\u001b[0;34m    -------\u001b[0m\n",
      "\u001b[0;34m    element_count : int\u001b[0m\n",
      "\u001b[0;34m        Number of elements along the specified axis.\u001b[0m\n",
      "\u001b[0;34m\u001b[0m\n",
      "\u001b[0;34m    See Also\u001b[0m\n",
      "\u001b[0;34m    --------\u001b[0m\n",
      "\u001b[0;34m    shape : dimensions of array\u001b[0m\n",
      "\u001b[0;34m    ndarray.shape : dimensions of array\u001b[0m\n",
      "\u001b[0;34m    ndarray.size : number of elements in array\u001b[0m\n",
      "\u001b[0;34m\u001b[0m\n",
      "\u001b[0;34m    Examples\u001b[0m\n",
      "\u001b[0;34m    --------\u001b[0m\n",
      "\u001b[0;34m    >>> import numpy as np\u001b[0m\n",
      "\u001b[0;34m    >>> a = np.array([[1,2,3],[4,5,6]])\u001b[0m\n",
      "\u001b[0;34m    >>> np.size(a)\u001b[0m\n",
      "\u001b[0;34m    6\u001b[0m\n",
      "\u001b[0;34m    >>> np.size(a,1)\u001b[0m\n",
      "\u001b[0;34m    3\u001b[0m\n",
      "\u001b[0;34m    >>> np.size(a,0)\u001b[0m\n",
      "\u001b[0;34m    2\u001b[0m\n",
      "\u001b[0;34m\u001b[0m\n",
      "\u001b[0;34m    \"\"\"\u001b[0m\u001b[0;34m\u001b[0m\n",
      "\u001b[0;34m\u001b[0m    \u001b[0;32mif\u001b[0m \u001b[0maxis\u001b[0m \u001b[0;32mis\u001b[0m \u001b[0;32mNone\u001b[0m\u001b[0;34m:\u001b[0m\u001b[0;34m\u001b[0m\n",
      "\u001b[0;34m\u001b[0m        \u001b[0;32mtry\u001b[0m\u001b[0;34m:\u001b[0m\u001b[0;34m\u001b[0m\n",
      "\u001b[0;34m\u001b[0m            \u001b[0;32mreturn\u001b[0m \u001b[0ma\u001b[0m\u001b[0;34m.\u001b[0m\u001b[0msize\u001b[0m\u001b[0;34m\u001b[0m\n",
      "\u001b[0;34m\u001b[0m        \u001b[0;32mexcept\u001b[0m \u001b[0mAttributeError\u001b[0m\u001b[0;34m:\u001b[0m\u001b[0;34m\u001b[0m\n",
      "\u001b[0;34m\u001b[0m            \u001b[0;32mreturn\u001b[0m \u001b[0masarray\u001b[0m\u001b[0;34m(\u001b[0m\u001b[0ma\u001b[0m\u001b[0;34m)\u001b[0m\u001b[0;34m.\u001b[0m\u001b[0msize\u001b[0m\u001b[0;34m\u001b[0m\n",
      "\u001b[0;34m\u001b[0m    \u001b[0;32melse\u001b[0m\u001b[0;34m:\u001b[0m\u001b[0;34m\u001b[0m\n",
      "\u001b[0;34m\u001b[0m        \u001b[0;32mtry\u001b[0m\u001b[0;34m:\u001b[0m\u001b[0;34m\u001b[0m\n",
      "\u001b[0;34m\u001b[0m            \u001b[0;32mreturn\u001b[0m \u001b[0ma\u001b[0m\u001b[0;34m.\u001b[0m\u001b[0mshape\u001b[0m\u001b[0;34m[\u001b[0m\u001b[0maxis\u001b[0m\u001b[0;34m]\u001b[0m\u001b[0;34m\u001b[0m\n",
      "\u001b[0;34m\u001b[0m        \u001b[0;32mexcept\u001b[0m \u001b[0mAttributeError\u001b[0m\u001b[0;34m:\u001b[0m\u001b[0;34m\u001b[0m\n",
      "\u001b[0;34m\u001b[0m            \u001b[0;32mreturn\u001b[0m \u001b[0masarray\u001b[0m\u001b[0;34m(\u001b[0m\u001b[0ma\u001b[0m\u001b[0;34m)\u001b[0m\u001b[0;34m.\u001b[0m\u001b[0mshape\u001b[0m\u001b[0;34m[\u001b[0m\u001b[0maxis\u001b[0m\u001b[0;34m]\u001b[0m\u001b[0;34m\u001b[0m\u001b[0;34m\u001b[0m\u001b[0m\n",
      "\u001b[0;31mClass docstring:\u001b[0m\n",
      "Class to wrap functions with checks for __array_function__ overrides.\n",
      "\n",
      "All arguments are required, and can only be passed by position.\n",
      "\n",
      "Parameters\n",
      "----------\n",
      "dispatcher : function or None\n",
      "    The dispatcher function that returns a single sequence-like object\n",
      "    of all arguments relevant.  It must have the same signature (except\n",
      "    the default values) as the actual implementation.\n",
      "    If ``None``, this is a ``like=`` dispatcher and the\n",
      "    ``_ArrayFunctionDispatcher`` must be called with ``like`` as the\n",
      "    first (additional and positional) argument.\n",
      "implementation : function\n",
      "    Function that implements the operation on NumPy arrays without\n",
      "    overrides.  Arguments passed calling the ``_ArrayFunctionDispatcher``\n",
      "    will be forwarded to this (and the ``dispatcher``) as if using\n",
      "    ``*args, **kwargs``.\n",
      "\n",
      "Attributes\n",
      "----------\n",
      "_implementation : function\n",
      "    The original implementation passed in."
     ]
    }
   ],
   "source": [
    "np.size??"
   ]
  },
  {
   "cell_type": "code",
   "execution_count": 10,
   "metadata": {},
   "outputs": [
    {
     "name": "stdout",
     "output_type": "stream",
     "text": [
      "<bound method NDFrame.describe of 2      54\n",
      "3      34\n",
      "4      62\n",
      "6      27\n",
      "7      29\n",
      "       ..\n",
      "830    56\n",
      "835    23\n",
      "836    52\n",
      "838    25\n",
      "839    29\n",
      "Name: Driver_Age, Length: 405, dtype: int64>\n"
     ]
    }
   ],
   "source": [
    "print(data[\"Driver_Age\"].describe)"
   ]
  },
  {
   "cell_type": "code",
   "execution_count": null,
   "metadata": {},
   "outputs": [],
   "source": []
  },
  {
   "cell_type": "code",
   "execution_count": null,
   "metadata": {},
   "outputs": [],
   "source": []
  }
 ],
 "metadata": {
  "kernelspec": {
   "display_name": "Python 3",
   "language": "python",
   "name": "python3"
  },
  "language_info": {
   "codemirror_mode": {
    "name": "ipython",
    "version": 3
   },
   "file_extension": ".py",
   "mimetype": "text/x-python",
   "name": "python",
   "nbconvert_exporter": "python",
   "pygments_lexer": "ipython3",
   "version": "3.12.1"
  }
 },
 "nbformat": 4,
 "nbformat_minor": 2
}

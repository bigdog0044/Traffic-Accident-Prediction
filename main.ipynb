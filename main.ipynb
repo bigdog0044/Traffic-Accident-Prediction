{
 "cells": [
  {
   "cell_type": "markdown",
   "metadata": {},
   "source": [
    "kaggle link\n",
    "https://www.kaggle.com/datasets/denkuznetz/traffic-accident-prediction"
   ]
  },
  {
   "cell_type": "code",
   "execution_count": 2,
   "metadata": {},
   "outputs": [],
   "source": [
    "import numpy as np\n",
    "import pandas as pd\n",
    "import matplotlib.pyplot as plt"
   ]
  },
  {
   "cell_type": "markdown",
   "metadata": {},
   "source": [
    "<h2> loading data in </h2>"
   ]
  },
  {
   "cell_type": "code",
   "execution_count": 3,
   "metadata": {},
   "outputs": [],
   "source": [
    "data = pd.read_csv('dataset_traffic_accident_prediction1.csv')"
   ]
  },
  {
   "cell_type": "code",
   "execution_count": 4,
   "metadata": {},
   "outputs": [
    {
     "data": {
      "text/html": [
       "<div>\n",
       "<style scoped>\n",
       "    .dataframe tbody tr th:only-of-type {\n",
       "        vertical-align: middle;\n",
       "    }\n",
       "\n",
       "    .dataframe tbody tr th {\n",
       "        vertical-align: top;\n",
       "    }\n",
       "\n",
       "    .dataframe thead th {\n",
       "        text-align: right;\n",
       "    }\n",
       "</style>\n",
       "<table border=\"1\" class=\"dataframe\">\n",
       "  <thead>\n",
       "    <tr style=\"text-align: right;\">\n",
       "      <th></th>\n",
       "      <th>Weather</th>\n",
       "      <th>Road_Type</th>\n",
       "      <th>Time_of_Day</th>\n",
       "      <th>Traffic_Density</th>\n",
       "      <th>Speed_Limit</th>\n",
       "      <th>Number_of_Vehicles</th>\n",
       "      <th>Driver_Alcohol</th>\n",
       "      <th>Accident_Severity</th>\n",
       "      <th>Road_Condition</th>\n",
       "      <th>Vehicle_Type</th>\n",
       "      <th>Driver_Age</th>\n",
       "      <th>Driver_Experience</th>\n",
       "      <th>Road_Light_Condition</th>\n",
       "      <th>Accident</th>\n",
       "    </tr>\n",
       "  </thead>\n",
       "  <tbody>\n",
       "    <tr>\n",
       "      <th>0</th>\n",
       "      <td>Rainy</td>\n",
       "      <td>City Road</td>\n",
       "      <td>Morning</td>\n",
       "      <td>1.0</td>\n",
       "      <td>100.0</td>\n",
       "      <td>5.0</td>\n",
       "      <td>0.0</td>\n",
       "      <td>NaN</td>\n",
       "      <td>Wet</td>\n",
       "      <td>Car</td>\n",
       "      <td>51.0</td>\n",
       "      <td>48.0</td>\n",
       "      <td>Artificial Light</td>\n",
       "      <td>0.0</td>\n",
       "    </tr>\n",
       "    <tr>\n",
       "      <th>1</th>\n",
       "      <td>Clear</td>\n",
       "      <td>Rural Road</td>\n",
       "      <td>Night</td>\n",
       "      <td>NaN</td>\n",
       "      <td>120.0</td>\n",
       "      <td>3.0</td>\n",
       "      <td>0.0</td>\n",
       "      <td>Moderate</td>\n",
       "      <td>Wet</td>\n",
       "      <td>Truck</td>\n",
       "      <td>49.0</td>\n",
       "      <td>43.0</td>\n",
       "      <td>Artificial Light</td>\n",
       "      <td>0.0</td>\n",
       "    </tr>\n",
       "    <tr>\n",
       "      <th>2</th>\n",
       "      <td>Rainy</td>\n",
       "      <td>Highway</td>\n",
       "      <td>Evening</td>\n",
       "      <td>1.0</td>\n",
       "      <td>60.0</td>\n",
       "      <td>4.0</td>\n",
       "      <td>0.0</td>\n",
       "      <td>Low</td>\n",
       "      <td>Icy</td>\n",
       "      <td>Car</td>\n",
       "      <td>54.0</td>\n",
       "      <td>52.0</td>\n",
       "      <td>Artificial Light</td>\n",
       "      <td>0.0</td>\n",
       "    </tr>\n",
       "    <tr>\n",
       "      <th>3</th>\n",
       "      <td>Clear</td>\n",
       "      <td>City Road</td>\n",
       "      <td>Afternoon</td>\n",
       "      <td>2.0</td>\n",
       "      <td>60.0</td>\n",
       "      <td>3.0</td>\n",
       "      <td>0.0</td>\n",
       "      <td>Low</td>\n",
       "      <td>Under Construction</td>\n",
       "      <td>Bus</td>\n",
       "      <td>34.0</td>\n",
       "      <td>31.0</td>\n",
       "      <td>Daylight</td>\n",
       "      <td>0.0</td>\n",
       "    </tr>\n",
       "    <tr>\n",
       "      <th>4</th>\n",
       "      <td>Rainy</td>\n",
       "      <td>Highway</td>\n",
       "      <td>Morning</td>\n",
       "      <td>1.0</td>\n",
       "      <td>195.0</td>\n",
       "      <td>11.0</td>\n",
       "      <td>0.0</td>\n",
       "      <td>Low</td>\n",
       "      <td>Dry</td>\n",
       "      <td>Car</td>\n",
       "      <td>62.0</td>\n",
       "      <td>55.0</td>\n",
       "      <td>Artificial Light</td>\n",
       "      <td>1.0</td>\n",
       "    </tr>\n",
       "  </tbody>\n",
       "</table>\n",
       "</div>"
      ],
      "text/plain": [
       "  Weather   Road_Type Time_of_Day  Traffic_Density  Speed_Limit  \\\n",
       "0   Rainy   City Road     Morning              1.0        100.0   \n",
       "1   Clear  Rural Road       Night              NaN        120.0   \n",
       "2   Rainy     Highway     Evening              1.0         60.0   \n",
       "3   Clear   City Road   Afternoon              2.0         60.0   \n",
       "4   Rainy     Highway     Morning              1.0        195.0   \n",
       "\n",
       "   Number_of_Vehicles  Driver_Alcohol Accident_Severity      Road_Condition  \\\n",
       "0                 5.0             0.0               NaN                 Wet   \n",
       "1                 3.0             0.0          Moderate                 Wet   \n",
       "2                 4.0             0.0               Low                 Icy   \n",
       "3                 3.0             0.0               Low  Under Construction   \n",
       "4                11.0             0.0               Low                 Dry   \n",
       "\n",
       "  Vehicle_Type  Driver_Age  Driver_Experience Road_Light_Condition  Accident  \n",
       "0          Car        51.0               48.0     Artificial Light       0.0  \n",
       "1        Truck        49.0               43.0     Artificial Light       0.0  \n",
       "2          Car        54.0               52.0     Artificial Light       0.0  \n",
       "3          Bus        34.0               31.0             Daylight       0.0  \n",
       "4          Car        62.0               55.0     Artificial Light       1.0  "
      ]
     },
     "execution_count": 4,
     "metadata": {},
     "output_type": "execute_result"
    }
   ],
   "source": [
    "data.head()"
   ]
  },
  {
   "cell_type": "markdown",
   "metadata": {},
   "source": [
    "<h2> Processing data</h2>"
   ]
  },
  {
   "cell_type": "markdown",
   "metadata": {},
   "source": [
    "working out total null values within each column"
   ]
  },
  {
   "cell_type": "code",
   "execution_count": 5,
   "metadata": {},
   "outputs": [
    {
     "name": "stdout",
     "output_type": "stream",
     "text": [
      "Weather total null values: 42\n",
      "Road_Type total null values: 42\n",
      "Time_of_Day total null values: 42\n",
      "Traffic_Density total null values: 42\n",
      "Speed_Limit total null values: 42\n",
      "Number_of_Vehicles total null values: 42\n",
      "Driver_Alcohol total null values: 42\n",
      "Accident_Severity total null values: 42\n",
      "Road_Condition total null values: 42\n",
      "Vehicle_Type total null values: 42\n",
      "Driver_Age total null values: 42\n",
      "Driver_Experience total null values: 42\n",
      "Road_Light_Condition total null values: 42\n",
      "Accident total null values: 42\n"
     ]
    }
   ],
   "source": [
    "for column in data.columns:\n",
    "    print(f\"{column} total null values: {sum(data[column].isnull())}\")"
   ]
  },
  {
   "cell_type": "markdown",
   "metadata": {},
   "source": [
    "removing null values"
   ]
  },
  {
   "cell_type": "code",
   "execution_count": 6,
   "metadata": {},
   "outputs": [],
   "source": [
    "data = data.dropna()"
   ]
  },
  {
   "cell_type": "code",
   "execution_count": 7,
   "metadata": {},
   "outputs": [],
   "source": [
    "#converting columns into a integer and not a float\n",
    "data['Driver_Age'] = data['Driver_Age'].astype(int)\n",
    "data['Number_of_Vehicles'] = data['Number_of_Vehicles'].astype(int)\n",
    "data['Driver_Experience'] = data['Driver_Experience'].astype(int)\n",
    "data['Driver_Alcohol'] = data['Driver_Alcohol'].astype(int)\n",
    "data['Traffic_Density'] = data['Traffic_Density'].astype(int)\n",
    "data['Accident'] = data['Accident'].astype(int)"
   ]
  },
  {
   "cell_type": "code",
   "execution_count": 8,
   "metadata": {},
   "outputs": [
    {
     "data": {
      "text/html": [
       "<div>\n",
       "<style scoped>\n",
       "    .dataframe tbody tr th:only-of-type {\n",
       "        vertical-align: middle;\n",
       "    }\n",
       "\n",
       "    .dataframe tbody tr th {\n",
       "        vertical-align: top;\n",
       "    }\n",
       "\n",
       "    .dataframe thead th {\n",
       "        text-align: right;\n",
       "    }\n",
       "</style>\n",
       "<table border=\"1\" class=\"dataframe\">\n",
       "  <thead>\n",
       "    <tr style=\"text-align: right;\">\n",
       "      <th></th>\n",
       "      <th>Weather</th>\n",
       "      <th>Road_Type</th>\n",
       "      <th>Time_of_Day</th>\n",
       "      <th>Traffic_Density</th>\n",
       "      <th>Speed_Limit</th>\n",
       "      <th>Number_of_Vehicles</th>\n",
       "      <th>Driver_Alcohol</th>\n",
       "      <th>Accident_Severity</th>\n",
       "      <th>Road_Condition</th>\n",
       "      <th>Vehicle_Type</th>\n",
       "      <th>Driver_Age</th>\n",
       "      <th>Driver_Experience</th>\n",
       "      <th>Road_Light_Condition</th>\n",
       "      <th>Accident</th>\n",
       "    </tr>\n",
       "  </thead>\n",
       "  <tbody>\n",
       "    <tr>\n",
       "      <th>2</th>\n",
       "      <td>Rainy</td>\n",
       "      <td>Highway</td>\n",
       "      <td>Evening</td>\n",
       "      <td>1</td>\n",
       "      <td>60.0</td>\n",
       "      <td>4</td>\n",
       "      <td>0</td>\n",
       "      <td>Low</td>\n",
       "      <td>Icy</td>\n",
       "      <td>Car</td>\n",
       "      <td>54</td>\n",
       "      <td>52</td>\n",
       "      <td>Artificial Light</td>\n",
       "      <td>0</td>\n",
       "    </tr>\n",
       "    <tr>\n",
       "      <th>3</th>\n",
       "      <td>Clear</td>\n",
       "      <td>City Road</td>\n",
       "      <td>Afternoon</td>\n",
       "      <td>2</td>\n",
       "      <td>60.0</td>\n",
       "      <td>3</td>\n",
       "      <td>0</td>\n",
       "      <td>Low</td>\n",
       "      <td>Under Construction</td>\n",
       "      <td>Bus</td>\n",
       "      <td>34</td>\n",
       "      <td>31</td>\n",
       "      <td>Daylight</td>\n",
       "      <td>0</td>\n",
       "    </tr>\n",
       "    <tr>\n",
       "      <th>4</th>\n",
       "      <td>Rainy</td>\n",
       "      <td>Highway</td>\n",
       "      <td>Morning</td>\n",
       "      <td>1</td>\n",
       "      <td>195.0</td>\n",
       "      <td>11</td>\n",
       "      <td>0</td>\n",
       "      <td>Low</td>\n",
       "      <td>Dry</td>\n",
       "      <td>Car</td>\n",
       "      <td>62</td>\n",
       "      <td>55</td>\n",
       "      <td>Artificial Light</td>\n",
       "      <td>1</td>\n",
       "    </tr>\n",
       "    <tr>\n",
       "      <th>6</th>\n",
       "      <td>Foggy</td>\n",
       "      <td>Highway</td>\n",
       "      <td>Afternoon</td>\n",
       "      <td>0</td>\n",
       "      <td>60.0</td>\n",
       "      <td>4</td>\n",
       "      <td>0</td>\n",
       "      <td>Low</td>\n",
       "      <td>Dry</td>\n",
       "      <td>Truck</td>\n",
       "      <td>27</td>\n",
       "      <td>26</td>\n",
       "      <td>Daylight</td>\n",
       "      <td>1</td>\n",
       "    </tr>\n",
       "    <tr>\n",
       "      <th>7</th>\n",
       "      <td>Rainy</td>\n",
       "      <td>City Road</td>\n",
       "      <td>Afternoon</td>\n",
       "      <td>0</td>\n",
       "      <td>60.0</td>\n",
       "      <td>4</td>\n",
       "      <td>0</td>\n",
       "      <td>Low</td>\n",
       "      <td>Dry</td>\n",
       "      <td>Car</td>\n",
       "      <td>29</td>\n",
       "      <td>22</td>\n",
       "      <td>Artificial Light</td>\n",
       "      <td>1</td>\n",
       "    </tr>\n",
       "  </tbody>\n",
       "</table>\n",
       "</div>"
      ],
      "text/plain": [
       "  Weather  Road_Type Time_of_Day  Traffic_Density  Speed_Limit  \\\n",
       "2   Rainy    Highway     Evening                1         60.0   \n",
       "3   Clear  City Road   Afternoon                2         60.0   \n",
       "4   Rainy    Highway     Morning                1        195.0   \n",
       "6   Foggy    Highway   Afternoon                0         60.0   \n",
       "7   Rainy  City Road   Afternoon                0         60.0   \n",
       "\n",
       "   Number_of_Vehicles  Driver_Alcohol Accident_Severity      Road_Condition  \\\n",
       "2                   4               0               Low                 Icy   \n",
       "3                   3               0               Low  Under Construction   \n",
       "4                  11               0               Low                 Dry   \n",
       "6                   4               0               Low                 Dry   \n",
       "7                   4               0               Low                 Dry   \n",
       "\n",
       "  Vehicle_Type  Driver_Age  Driver_Experience Road_Light_Condition  Accident  \n",
       "2          Car          54                 52     Artificial Light         0  \n",
       "3          Bus          34                 31             Daylight         0  \n",
       "4          Car          62                 55     Artificial Light         1  \n",
       "6        Truck          27                 26             Daylight         1  \n",
       "7          Car          29                 22     Artificial Light         1  "
      ]
     },
     "execution_count": 8,
     "metadata": {},
     "output_type": "execute_result"
    }
   ],
   "source": [
    "data.head()"
   ]
  },
  {
   "cell_type": "markdown",
   "metadata": {},
   "source": [
    "<h2> data visualisation/understanding</h2>"
   ]
  },
  {
   "cell_type": "code",
   "execution_count": 33,
   "metadata": {},
   "outputs": [
    {
     "data": {
      "text/plain": [
       "([<matplotlib.patches.Wedge at 0x1b01bbf8e90>,\n",
       "  <matplotlib.patches.Wedge at 0x1b01bbf98b0>,\n",
       "  <matplotlib.patches.Wedge at 0x1b01bc0f6b0>,\n",
       "  <matplotlib.patches.Wedge at 0x1b01bc0fce0>,\n",
       "  <matplotlib.patches.Wedge at 0x1b01bc40380>],\n",
       " [Text(0.22452801713650253, 1.0768412926335758, 'Clear'),\n",
       "  Text(-0.9867957772164, -0.4860391898477749, 'Rainy'),\n",
       "  Text(0.18260403626605964, -1.0847376484382496, 'Foggy'),\n",
       "  Text(0.8797809128788396, -0.6602920151978788, 'Snowy'),\n",
       "  Text(1.0880745651143067, -0.16153557116410247, 'Stormy')],\n",
       " [Text(0.12246982752900136, 0.5873679778001322, '43.5%'),\n",
       "  Text(-0.5382522421180362, -0.26511228537151355, '27.7%'),\n",
       "  Text(0.09960220159966889, -0.5916750809663179, '13.1%'),\n",
       "  Text(0.47988049793391246, -0.3601592810170248, '11.1%'),\n",
       "  Text(0.5934952173350763, -0.0881103115440559, '4.7%')])"
      ]
     },
     "execution_count": 33,
     "metadata": {},
     "output_type": "execute_result"
    },
    {
     "data": {
      "image/png": "[encoded data removed]",
      "text/plain": [
       "<Figure size 640x480 with 1 Axes>"
      ]
     },
     "metadata": {},
     "output_type": "display_data"
    }
   ],
   "source": [
    "#working out the proportion of each type of condiction\n",
    "\n",
    "fig,ax = plt.subplots()\n",
    "\n",
    "wordList = [\"Clear\",\"Rainy\",\"Foggy\",\"Snowy\",\"Stormy\"]\n",
    "\n",
    "totalWordArr = np.array([]).astype(int)\n",
    "\n",
    "for word in wordList:\n",
    "    totalWordArr = np.append(totalWordArr,sum((data['Weather'] == word) == True))\n",
    "    #print(f\"Total amount of rows for {word} {sum((data['Weather'] == word) == True)}\")\n",
    "\n",
    "\n",
    "plt.title(\"Weather distribution\")\n",
    "ax.pie(totalWordArr, labels=wordList, autopct=\"%1.1f%%\")"
   ]
  },
  {
   "cell_type": "code",
   "execution_count": 10,
   "metadata": {},
   "outputs": [
    {
     "data": {
      "text/plain": [
       "<BarContainer object of 405 artists>"
      ]
     },
     "execution_count": 10,
     "metadata": {},
     "output_type": "execute_result"
    },
    {
     "data": {
      "image/png": "[encoded data removed]",
      "text/plain": [
       "<Figure size 640x480 with 1 Axes>"
      ]
     },
     "metadata": {},
     "output_type": "display_data"
    }
   ],
   "source": [
    "#looking at the distribution for age\n",
    "\n",
    "age = data['Driver_Age']\n",
    "barHeight = 10\n",
    "\n",
    "plt.bar(age,barHeight)\n"
   ]
  },
  {
   "cell_type": "code",
   "execution_count": 11,
   "metadata": {},
   "outputs": [
    {
     "name": "stdout",
     "output_type": "stream",
     "text": [
      "<bound method NDFrame.describe of 2      54\n",
      "3      34\n",
      "4      62\n",
      "6      27\n",
      "7      29\n",
      "       ..\n",
      "830    56\n",
      "835    23\n",
      "836    52\n",
      "838    25\n",
      "839    29\n",
      "Name: Driver_Age, Length: 405, dtype: int64>\n"
     ]
    }
   ],
   "source": [
    "print(data[\"Driver_Age\"].describe)"
   ]
  },
  {
   "cell_type": "code",
   "execution_count": null,
   "metadata": {},
   "outputs": [],
   "source": []
  }
 ],
 "metadata": {
  "kernelspec": {
   "display_name": "general-AI-env",
   "language": "python",
   "name": "python3"
  },
  "language_info": {
   "codemirror_mode": {
    "name": "ipython",
    "version": 3
   },
   "file_extension": ".py",
   "mimetype": "text/x-python",
   "name": "python",
   "nbconvert_exporter": "python",
   "pygments_lexer": "ipython3",
   "version": "3.12.8"
  }
 },
 "nbformat": 4,
 "nbformat_minor": 2
}

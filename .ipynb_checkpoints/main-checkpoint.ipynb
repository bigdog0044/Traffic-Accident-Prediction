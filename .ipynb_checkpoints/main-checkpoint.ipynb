{
 "cells": [
  {
   "cell_type": "markdown",
   "metadata": {},
   "source": [
    "kaggle link\n",
    "https://www.kaggle.com/datasets/denkuznetz/traffic-accident-prediction"
   ]
  },
  {
   "cell_type": "code",
   "execution_count": 1,
   "metadata": {},
   "outputs": [],
   "source": [
    "import numpy as np\n",
    "import pandas as pd\n",
    "import matplotlib.pyplot as plt"
   ]
  },
  {
   "cell_type": "markdown",
   "metadata": {},
   "source": [
    "<h2> loading data in </h2>"
   ]
  },
  {
   "cell_type": "code",
   "execution_count": 2,
   "metadata": {},
   "outputs": [],
   "source": [
    "data = pd.read_csv('dataset_traffic_accident_prediction1.csv')"
   ]
  },
  {
   "cell_type": "code",
   "execution_count": 3,
   "metadata": {},
   "outputs": [
    {
     "data": {
      "text/html": [
       "<div>\n",
       "<style scoped>\n",
       "    .dataframe tbody tr th:only-of-type {\n",
       "        vertical-align: middle;\n",
       "    }\n",
       "\n",
       "    .dataframe tbody tr th {\n",
       "        vertical-align: top;\n",
       "    }\n",
       "\n",
       "    .dataframe thead th {\n",
       "        text-align: right;\n",
       "    }\n",
       "</style>\n",
       "<table border=\"1\" class=\"dataframe\">\n",
       "  <thead>\n",
       "    <tr style=\"text-align: right;\">\n",
       "      <th></th>\n",
       "      <th>Weather</th>\n",
       "      <th>Road_Type</th>\n",
       "      <th>Time_of_Day</th>\n",
       "      <th>Traffic_Density</th>\n",
       "      <th>Speed_Limit</th>\n",
       "      <th>Number_of_Vehicles</th>\n",
       "      <th>Driver_Alcohol</th>\n",
       "      <th>Accident_Severity</th>\n",
       "      <th>Road_Condition</th>\n",
       "      <th>Vehicle_Type</th>\n",
       "      <th>Driver_Age</th>\n",
       "      <th>Driver_Experience</th>\n",
       "      <th>Road_Light_Condition</th>\n",
       "      <th>Accident</th>\n",
       "    </tr>\n",
       "  </thead>\n",
       "  <tbody>\n",
       "    <tr>\n",
       "      <th>0</th>\n",
       "      <td>Rainy</td>\n",
       "      <td>City Road</td>\n",
       "      <td>Morning</td>\n",
       "      <td>1.0</td>\n",
       "      <td>100.0</td>\n",
       "      <td>5.0</td>\n",
       "      <td>0.0</td>\n",
       "      <td>NaN</td>\n",
       "      <td>Wet</td>\n",
       "      <td>Car</td>\n",
       "      <td>51.0</td>\n",
       "      <td>48.0</td>\n",
       "      <td>Artificial Light</td>\n",
       "      <td>0.0</td>\n",
       "    </tr>\n",
       "    <tr>\n",
       "      <th>1</th>\n",
       "      <td>Clear</td>\n",
       "      <td>Rural Road</td>\n",
       "      <td>Night</td>\n",
       "      <td>NaN</td>\n",
       "      <td>120.0</td>\n",
       "      <td>3.0</td>\n",
       "      <td>0.0</td>\n",
       "      <td>Moderate</td>\n",
       "      <td>Wet</td>\n",
       "      <td>Truck</td>\n",
       "      <td>49.0</td>\n",
       "      <td>43.0</td>\n",
       "      <td>Artificial Light</td>\n",
       "      <td>0.0</td>\n",
       "    </tr>\n",
       "    <tr>\n",
       "      <th>2</th>\n",
       "      <td>Rainy</td>\n",
       "      <td>Highway</td>\n",
       "      <td>Evening</td>\n",
       "      <td>1.0</td>\n",
       "      <td>60.0</td>\n",
       "      <td>4.0</td>\n",
       "      <td>0.0</td>\n",
       "      <td>Low</td>\n",
       "      <td>Icy</td>\n",
       "      <td>Car</td>\n",
       "      <td>54.0</td>\n",
       "      <td>52.0</td>\n",
       "      <td>Artificial Light</td>\n",
       "      <td>0.0</td>\n",
       "    </tr>\n",
       "    <tr>\n",
       "      <th>3</th>\n",
       "      <td>Clear</td>\n",
       "      <td>City Road</td>\n",
       "      <td>Afternoon</td>\n",
       "      <td>2.0</td>\n",
       "      <td>60.0</td>\n",
       "      <td>3.0</td>\n",
       "      <td>0.0</td>\n",
       "      <td>Low</td>\n",
       "      <td>Under Construction</td>\n",
       "      <td>Bus</td>\n",
       "      <td>34.0</td>\n",
       "      <td>31.0</td>\n",
       "      <td>Daylight</td>\n",
       "      <td>0.0</td>\n",
       "    </tr>\n",
       "    <tr>\n",
       "      <th>4</th>\n",
       "      <td>Rainy</td>\n",
       "      <td>Highway</td>\n",
       "      <td>Morning</td>\n",
       "      <td>1.0</td>\n",
       "      <td>195.0</td>\n",
       "      <td>11.0</td>\n",
       "      <td>0.0</td>\n",
       "      <td>Low</td>\n",
       "      <td>Dry</td>\n",
       "      <td>Car</td>\n",
       "      <td>62.0</td>\n",
       "      <td>55.0</td>\n",
       "      <td>Artificial Light</td>\n",
       "      <td>1.0</td>\n",
       "    </tr>\n",
       "  </tbody>\n",
       "</table>\n",
       "</div>"
      ],
      "text/plain": [
       "  Weather   Road_Type Time_of_Day  Traffic_Density  Speed_Limit  \\\n",
       "0   Rainy   City Road     Morning              1.0        100.0   \n",
       "1   Clear  Rural Road       Night              NaN        120.0   \n",
       "2   Rainy     Highway     Evening              1.0         60.0   \n",
       "3   Clear   City Road   Afternoon              2.0         60.0   \n",
       "4   Rainy     Highway     Morning              1.0        195.0   \n",
       "\n",
       "   Number_of_Vehicles  Driver_Alcohol Accident_Severity      Road_Condition  \\\n",
       "0                 5.0             0.0               NaN                 Wet   \n",
       "1                 3.0             0.0          Moderate                 Wet   \n",
       "2                 4.0             0.0               Low                 Icy   \n",
       "3                 3.0             0.0               Low  Under Construction   \n",
       "4                11.0             0.0               Low                 Dry   \n",
       "\n",
       "  Vehicle_Type  Driver_Age  Driver_Experience Road_Light_Condition  Accident  \n",
       "0          Car        51.0               48.0     Artificial Light       0.0  \n",
       "1        Truck        49.0               43.0     Artificial Light       0.0  \n",
       "2          Car        54.0               52.0     Artificial Light       0.0  \n",
       "3          Bus        34.0               31.0             Daylight       0.0  \n",
       "4          Car        62.0               55.0     Artificial Light       1.0  "
      ]
     },
     "execution_count": 3,
     "metadata": {},
     "output_type": "execute_result"
    }
   ],
   "source": [
    "data.head()"
   ]
  },
  {
   "cell_type": "markdown",
   "metadata": {},
   "source": [
    "<h2> Processing data</h2>"
   ]
  },
  {
   "cell_type": "markdown",
   "metadata": {},
   "source": [
    "working out total null values within each column"
   ]
  },
  {
   "cell_type": "code",
   "execution_count": 4,
   "metadata": {},
   "outputs": [
    {
     "name": "stdout",
     "output_type": "stream",
     "text": [
      "Weather total null values: 42\n",
      "Road_Type total null values: 42\n",
      "Time_of_Day total null values: 42\n",
      "Traffic_Density total null values: 42\n",
      "Speed_Limit total null values: 42\n",
      "Number_of_Vehicles total null values: 42\n",
      "Driver_Alcohol total null values: 42\n",
      "Accident_Severity total null values: 42\n",
      "Road_Condition total null values: 42\n",
      "Vehicle_Type total null values: 42\n",
      "Driver_Age total null values: 42\n",
      "Driver_Experience total null values: 42\n",
      "Road_Light_Condition total null values: 42\n",
      "Accident total null values: 42\n"
     ]
    }
   ],
   "source": [
    "for column in data.columns:\n",
    "    print(f\"{column} total null values: {sum(data[column].isnull())}\")"
   ]
  },
  {
   "cell_type": "markdown",
   "metadata": {},
   "source": [
    "removing null values"
   ]
  },
  {
   "cell_type": "code",
   "execution_count": 5,
   "metadata": {},
   "outputs": [],
   "source": [
    "data = data.dropna()"
   ]
  },
  {
   "cell_type": "code",
   "execution_count": 6,
   "metadata": {},
   "outputs": [],
   "source": [
    "#converting columns into a integer and not a float\n",
    "data['Driver_Age'] = data['Driver_Age'].astype(int)\n",
    "data['Number_of_Vehicles'] = data['Number_of_Vehicles'].astype(int)\n",
    "data['Driver_Experience'] = data['Driver_Experience'].astype(int)\n",
    "data['Driver_Alcohol'] = data['Driver_Alcohol'].astype(int)\n",
    "data['Traffic_Density'] = data['Traffic_Density'].astype(int)\n",
    "data['Accident'] = data['Accident'].astype(int)"
   ]
  },
  {
   "cell_type": "code",
   "execution_count": 7,
   "metadata": {},
   "outputs": [
    {
     "data": {
      "text/html": [
       "<div>\n",
       "<style scoped>\n",
       "    .dataframe tbody tr th:only-of-type {\n",
       "        vertical-align: middle;\n",
       "    }\n",
       "\n",
       "    .dataframe tbody tr th {\n",
       "        vertical-align: top;\n",
       "    }\n",
       "\n",
       "    .dataframe thead th {\n",
       "        text-align: right;\n",
       "    }\n",
       "</style>\n",
       "<table border=\"1\" class=\"dataframe\">\n",
       "  <thead>\n",
       "    <tr style=\"text-align: right;\">\n",
       "      <th></th>\n",
       "      <th>Weather</th>\n",
       "      <th>Road_Type</th>\n",
       "      <th>Time_of_Day</th>\n",
       "      <th>Traffic_Density</th>\n",
       "      <th>Speed_Limit</th>\n",
       "      <th>Number_of_Vehicles</th>\n",
       "      <th>Driver_Alcohol</th>\n",
       "      <th>Accident_Severity</th>\n",
       "      <th>Road_Condition</th>\n",
       "      <th>Vehicle_Type</th>\n",
       "      <th>Driver_Age</th>\n",
       "      <th>Driver_Experience</th>\n",
       "      <th>Road_Light_Condition</th>\n",
       "      <th>Accident</th>\n",
       "    </tr>\n",
       "  </thead>\n",
       "  <tbody>\n",
       "    <tr>\n",
       "      <th>2</th>\n",
       "      <td>Rainy</td>\n",
       "      <td>Highway</td>\n",
       "      <td>Evening</td>\n",
       "      <td>1</td>\n",
       "      <td>60.0</td>\n",
       "      <td>4</td>\n",
       "      <td>0</td>\n",
       "      <td>Low</td>\n",
       "      <td>Icy</td>\n",
       "      <td>Car</td>\n",
       "      <td>54</td>\n",
       "      <td>52</td>\n",
       "      <td>Artificial Light</td>\n",
       "      <td>0</td>\n",
       "    </tr>\n",
       "    <tr>\n",
       "      <th>3</th>\n",
       "      <td>Clear</td>\n",
       "      <td>City Road</td>\n",
       "      <td>Afternoon</td>\n",
       "      <td>2</td>\n",
       "      <td>60.0</td>\n",
       "      <td>3</td>\n",
       "      <td>0</td>\n",
       "      <td>Low</td>\n",
       "      <td>Under Construction</td>\n",
       "      <td>Bus</td>\n",
       "      <td>34</td>\n",
       "      <td>31</td>\n",
       "      <td>Daylight</td>\n",
       "      <td>0</td>\n",
       "    </tr>\n",
       "    <tr>\n",
       "      <th>4</th>\n",
       "      <td>Rainy</td>\n",
       "      <td>Highway</td>\n",
       "      <td>Morning</td>\n",
       "      <td>1</td>\n",
       "      <td>195.0</td>\n",
       "      <td>11</td>\n",
       "      <td>0</td>\n",
       "      <td>Low</td>\n",
       "      <td>Dry</td>\n",
       "      <td>Car</td>\n",
       "      <td>62</td>\n",
       "      <td>55</td>\n",
       "      <td>Artificial Light</td>\n",
       "      <td>1</td>\n",
       "    </tr>\n",
       "    <tr>\n",
       "      <th>6</th>\n",
       "      <td>Foggy</td>\n",
       "      <td>Highway</td>\n",
       "      <td>Afternoon</td>\n",
       "      <td>0</td>\n",
       "      <td>60.0</td>\n",
       "      <td>4</td>\n",
       "      <td>0</td>\n",
       "      <td>Low</td>\n",
       "      <td>Dry</td>\n",
       "      <td>Truck</td>\n",
       "      <td>27</td>\n",
       "      <td>26</td>\n",
       "      <td>Daylight</td>\n",
       "      <td>1</td>\n",
       "    </tr>\n",
       "    <tr>\n",
       "      <th>7</th>\n",
       "      <td>Rainy</td>\n",
       "      <td>City Road</td>\n",
       "      <td>Afternoon</td>\n",
       "      <td>0</td>\n",
       "      <td>60.0</td>\n",
       "      <td>4</td>\n",
       "      <td>0</td>\n",
       "      <td>Low</td>\n",
       "      <td>Dry</td>\n",
       "      <td>Car</td>\n",
       "      <td>29</td>\n",
       "      <td>22</td>\n",
       "      <td>Artificial Light</td>\n",
       "      <td>1</td>\n",
       "    </tr>\n",
       "  </tbody>\n",
       "</table>\n",
       "</div>"
      ],
      "text/plain": [
       "  Weather  Road_Type Time_of_Day  Traffic_Density  Speed_Limit  \\\n",
       "2   Rainy    Highway     Evening                1         60.0   \n",
       "3   Clear  City Road   Afternoon                2         60.0   \n",
       "4   Rainy    Highway     Morning                1        195.0   \n",
       "6   Foggy    Highway   Afternoon                0         60.0   \n",
       "7   Rainy  City Road   Afternoon                0         60.0   \n",
       "\n",
       "   Number_of_Vehicles  Driver_Alcohol Accident_Severity      Road_Condition  \\\n",
       "2                   4               0               Low                 Icy   \n",
       "3                   3               0               Low  Under Construction   \n",
       "4                  11               0               Low                 Dry   \n",
       "6                   4               0               Low                 Dry   \n",
       "7                   4               0               Low                 Dry   \n",
       "\n",
       "  Vehicle_Type  Driver_Age  Driver_Experience Road_Light_Condition  Accident  \n",
       "2          Car          54                 52     Artificial Light         0  \n",
       "3          Bus          34                 31             Daylight         0  \n",
       "4          Car          62                 55     Artificial Light         1  \n",
       "6        Truck          27                 26             Daylight         1  \n",
       "7          Car          29                 22     Artificial Light         1  "
      ]
     },
     "execution_count": 7,
     "metadata": {},
     "output_type": "execute_result"
    }
   ],
   "source": [
    "data.head()"
   ]
  },
  {
   "cell_type": "markdown",
   "metadata": {},
   "source": [
    "<h2 style=\"text-align:center;\"> data visualisation/understanding</h2>"
   ]
  },
  {
   "cell_type": "markdown",
   "metadata": {},
   "source": [
    "<h3 >Sorting out age into categories </h3>"
   ]
  },
  {
   "cell_type": "markdown",
   "metadata": {},
   "source": [
    "working out min and max in age"
   ]
  },
  {
   "cell_type": "code",
   "execution_count": 8,
   "metadata": {},
   "outputs": [
    {
     "name": "stdout",
     "output_type": "stream",
     "text": [
      "Minimum age:  18\n",
      "Maximum age:  69\n"
     ]
    }
   ],
   "source": [
    "print(\"Minimum age: \",data['Driver_Age'].min())\n",
    "print(\"Maximum age: \",data['Driver_Age'].max())"
   ]
  },
  {
   "cell_type": "code",
   "execution_count": 9,
   "metadata": {},
   "outputs": [
    {
     "name": "stdout",
     "output_type": "stream",
     "text": [
      "Driver_Age\n",
      "56-69    112\n",
      "26-35     83\n",
      "46-55     80\n",
      "36-45     73\n",
      "18-25     52\n",
      "Name: count, dtype: int64\n"
     ]
    }
   ],
   "source": [
    "bins=[18,25,35,45,55,69]\n",
    "ageGroupLabels = ['18-25','26-35','36-45','46-55','56-69']\n",
    "\n",
    "ageGroups = pd.cut(data['Driver_Age'], bins, labels=ageGroupLabels)\n",
    "\n",
    "print(ageGroups.value_counts())"
   ]
  },
  {
   "cell_type": "markdown",
   "metadata": {},
   "source": [
    "<h3>Plotting the data</h3>"
   ]
  },
  {
   "cell_type": "markdown",
   "metadata": {},
   "source": [
    "<p style=\"text-align: center;\">Weather and age visualisation</p>"
   ]
  },
  {
   "cell_type": "code",
   "execution_count": 10,
   "metadata": {},
   "outputs": [
    {
     "data": {
      "text/plain": [
       "Text(0.5, 1.0, 'Age distribution')"
      ]
     },
     "execution_count": 10,
     "metadata": {},
     "output_type": "execute_result"
    },
    {
     "data": {
      "image/png": "[encoded data removed]",
      "text/plain": [
       "<Figure size 640x480 with 2 Axes>"
      ]
     },
     "metadata": {},
     "output_type": "display_data"
    }
   ],
   "source": [
    "#working out the proportion of each type of condiction\n",
    "\n",
    "fig,ax = plt.subplots(1,2)\n",
    "\n",
    "wordLabels = [\"Clear\",\"Rainy\",\"Foggy\",\"Snowy\",\"Stormy\"]\n",
    "totalWordArr = np.array([]).astype(int)\n",
    "\n",
    "for word in wordLabels:\n",
    "    totalWordArr = np.append(totalWordArr,sum((data['Weather'] == word) == True))\n",
    "    #print(f\"Total amount of rows for {word} {sum((data['Weather'] == word) == True)}\")\n",
    "\n",
    "\n",
    "ax[0].pie(totalWordArr, labels=wordLabels, autopct=\"%1.1f%%\")\n",
    "ax[0].set_title(\"Weather distribution\")\n",
    "\n",
    "\n",
    "ageGroupsCounts = ageGroups.value_counts()\n",
    "ax[1].pie(ageGroupsCounts, labels=ageGroupsCounts.index,autopct=\"%1.1f%%\")\n",
    "ax[1].set_title(\"Age distribution\")"
   ]
  },
  {
   "cell_type": "markdown",
   "metadata": {},
   "source": [
    "<p style=\"text-align:center\">Traffic density and number of vechicles distribution</p>"
   ]
  },
  {
   "cell_type": "code",
   "execution_count": 11,
   "metadata": {},
   "outputs": [
    {
     "data": {
      "text/html": [
       "<div>\n",
       "<style scoped>\n",
       "    .dataframe tbody tr th:only-of-type {\n",
       "        vertical-align: middle;\n",
       "    }\n",
       "\n",
       "    .dataframe tbody tr th {\n",
       "        vertical-align: top;\n",
       "    }\n",
       "\n",
       "    .dataframe thead th {\n",
       "        text-align: right;\n",
       "    }\n",
       "</style>\n",
       "<table border=\"1\" class=\"dataframe\">\n",
       "  <thead>\n",
       "    <tr style=\"text-align: right;\">\n",
       "      <th></th>\n",
       "      <th>Weather</th>\n",
       "      <th>Road_Type</th>\n",
       "      <th>Time_of_Day</th>\n",
       "      <th>Traffic_Density</th>\n",
       "      <th>Speed_Limit</th>\n",
       "      <th>Number_of_Vehicles</th>\n",
       "      <th>Driver_Alcohol</th>\n",
       "      <th>Accident_Severity</th>\n",
       "      <th>Road_Condition</th>\n",
       "      <th>Vehicle_Type</th>\n",
       "      <th>Driver_Age</th>\n",
       "      <th>Driver_Experience</th>\n",
       "      <th>Road_Light_Condition</th>\n",
       "      <th>Accident</th>\n",
       "    </tr>\n",
       "  </thead>\n",
       "  <tbody>\n",
       "    <tr>\n",
       "      <th>2</th>\n",
       "      <td>Rainy</td>\n",
       "      <td>Highway</td>\n",
       "      <td>Evening</td>\n",
       "      <td>1</td>\n",
       "      <td>60.0</td>\n",
       "      <td>4</td>\n",
       "      <td>0</td>\n",
       "      <td>Low</td>\n",
       "      <td>Icy</td>\n",
       "      <td>Car</td>\n",
       "      <td>54</td>\n",
       "      <td>52</td>\n",
       "      <td>Artificial Light</td>\n",
       "      <td>0</td>\n",
       "    </tr>\n",
       "    <tr>\n",
       "      <th>3</th>\n",
       "      <td>Clear</td>\n",
       "      <td>City Road</td>\n",
       "      <td>Afternoon</td>\n",
       "      <td>2</td>\n",
       "      <td>60.0</td>\n",
       "      <td>3</td>\n",
       "      <td>0</td>\n",
       "      <td>Low</td>\n",
       "      <td>Under Construction</td>\n",
       "      <td>Bus</td>\n",
       "      <td>34</td>\n",
       "      <td>31</td>\n",
       "      <td>Daylight</td>\n",
       "      <td>0</td>\n",
       "    </tr>\n",
       "    <tr>\n",
       "      <th>4</th>\n",
       "      <td>Rainy</td>\n",
       "      <td>Highway</td>\n",
       "      <td>Morning</td>\n",
       "      <td>1</td>\n",
       "      <td>195.0</td>\n",
       "      <td>11</td>\n",
       "      <td>0</td>\n",
       "      <td>Low</td>\n",
       "      <td>Dry</td>\n",
       "      <td>Car</td>\n",
       "      <td>62</td>\n",
       "      <td>55</td>\n",
       "      <td>Artificial Light</td>\n",
       "      <td>1</td>\n",
       "    </tr>\n",
       "    <tr>\n",
       "      <th>6</th>\n",
       "      <td>Foggy</td>\n",
       "      <td>Highway</td>\n",
       "      <td>Afternoon</td>\n",
       "      <td>0</td>\n",
       "      <td>60.0</td>\n",
       "      <td>4</td>\n",
       "      <td>0</td>\n",
       "      <td>Low</td>\n",
       "      <td>Dry</td>\n",
       "      <td>Truck</td>\n",
       "      <td>27</td>\n",
       "      <td>26</td>\n",
       "      <td>Daylight</td>\n",
       "      <td>1</td>\n",
       "    </tr>\n",
       "    <tr>\n",
       "      <th>7</th>\n",
       "      <td>Rainy</td>\n",
       "      <td>City Road</td>\n",
       "      <td>Afternoon</td>\n",
       "      <td>0</td>\n",
       "      <td>60.0</td>\n",
       "      <td>4</td>\n",
       "      <td>0</td>\n",
       "      <td>Low</td>\n",
       "      <td>Dry</td>\n",
       "      <td>Car</td>\n",
       "      <td>29</td>\n",
       "      <td>22</td>\n",
       "      <td>Artificial Light</td>\n",
       "      <td>1</td>\n",
       "    </tr>\n",
       "  </tbody>\n",
       "</table>\n",
       "</div>"
      ],
      "text/plain": [
       "  Weather  Road_Type Time_of_Day  Traffic_Density  Speed_Limit  \\\n",
       "2   Rainy    Highway     Evening                1         60.0   \n",
       "3   Clear  City Road   Afternoon                2         60.0   \n",
       "4   Rainy    Highway     Morning                1        195.0   \n",
       "6   Foggy    Highway   Afternoon                0         60.0   \n",
       "7   Rainy  City Road   Afternoon                0         60.0   \n",
       "\n",
       "   Number_of_Vehicles  Driver_Alcohol Accident_Severity      Road_Condition  \\\n",
       "2                   4               0               Low                 Icy   \n",
       "3                   3               0               Low  Under Construction   \n",
       "4                  11               0               Low                 Dry   \n",
       "6                   4               0               Low                 Dry   \n",
       "7                   4               0               Low                 Dry   \n",
       "\n",
       "  Vehicle_Type  Driver_Age  Driver_Experience Road_Light_Condition  Accident  \n",
       "2          Car          54                 52     Artificial Light         0  \n",
       "3          Bus          34                 31             Daylight         0  \n",
       "4          Car          62                 55     Artificial Light         1  \n",
       "6        Truck          27                 26             Daylight         1  \n",
       "7          Car          29                 22     Artificial Light         1  "
      ]
     },
     "execution_count": 11,
     "metadata": {},
     "output_type": "execute_result"
    }
   ],
   "source": [
    "data.head()"
   ]
  },
  {
   "cell_type": "code",
   "execution_count": 12,
   "metadata": {},
   "outputs": [],
   "source": [
    "TrafficDensitylabels = [\"Low\",\"Moderate\",\"High\"]\n",
    "\n",
    "trafficDensityCategory = [0,1,2]\n",
    "NumberOfVechicalsCategory = np.array([]).astype(int)\n",
    "\n",
    "traffic_density_value_total = np.array([]).astype(int)\n",
    "NumberVechicalTotal = np.array([]).astype(int)"
   ]
  },
  {
   "cell_type": "markdown",
   "metadata": {},
   "source": [
    "<p>working out labels for number of vechicals</p>"
   ]
  },
  {
   "cell_type": "code",
   "execution_count": 13,
   "metadata": {},
   "outputs": [
    {
     "name": "stdout",
     "output_type": "stream",
     "text": [
      "Minimum amount of vechicals  1\n",
      "Maximum amount of vechicals  14\n"
     ]
    }
   ],
   "source": [
    "print(\"Minimum amount of vechicals \",data['Number_of_Vehicles'].min())\n",
    "print(\"Maximum amount of vechicals \",data['Number_of_Vehicles'].max())"
   ]
  },
  {
   "cell_type": "code",
   "execution_count": 14,
   "metadata": {},
   "outputs": [
    {
     "name": "stdout",
     "output_type": "stream",
     "text": [
      "[ 1  2  3  4  5  6  7  8  9 10 11 12 13 14]\n"
     ]
    }
   ],
   "source": [
    "NumberOfVechicalsCategory = np.arange(start=data['Number_of_Vehicles'].min(),stop=data['Number_of_Vehicles'].max()+1,step=1)\n",
    "print(NumberOfVechicalsCategory)"
   ]
  },
  {
   "cell_type": "markdown",
   "metadata": {},
   "source": [
    "<p>working out the total for both traffic density and number of vechicals</p>"
   ]
  },
  {
   "cell_type": "code",
   "execution_count": 15,
   "metadata": {},
   "outputs": [
    {
     "name": "stdout",
     "output_type": "stream",
     "text": [
      "Number_of_Vehicles\n",
      "12     1\n",
      "13     1\n",
      "10     3\n",
      "14     3\n",
      "11     5\n",
      "2     75\n",
      "5     78\n",
      "4     78\n",
      "1     80\n",
      "3     81\n",
      "Name: count, dtype: int64\n"
     ]
    }
   ],
   "source": [
    "for category in trafficDensityCategory:\n",
    "    traffic_density_value_total = np.append(traffic_density_value_total,sum((data['Traffic_Density'] == category) == True))\n",
    "\n",
    "print(data['Number_of_Vehicles'].value_counts(ascending=True))"
   ]
  },
  {
   "cell_type": "code",
   "execution_count": 17,
   "metadata": {},
   "outputs": [
    {
     "name": "stdout",
     "output_type": "stream",
     "text": [
      "Hello world\n"
     ]
    }
   ],
   "source": [
    "print(\"Hello world\")"
   ]
  },
  {
   "cell_type": "code",
   "execution_count": 16,
   "metadata": {},
   "outputs": [
    {
     "ename": "ValueError",
     "evalue": "shape mismatch: objects cannot be broadcast to a single shape.  Mismatch is between arg 0 with shape (14,) and arg 1 with shape (0,).",
     "output_type": "error",
     "traceback": [
      "\u001b[0;31m---------------------------------------------------------------------------\u001b[0m",
      "\u001b[0;31mValueError\u001b[0m                                Traceback (most recent call last)",
      "Cell \u001b[0;32mIn[16], line 5\u001b[0m\n\u001b[1;32m      3\u001b[0m ax[\u001b[38;5;241m0\u001b[39m]\u001b[38;5;241m.\u001b[39mbar(TrafficDensitylabels,traffic_density_value_total)\n\u001b[1;32m      4\u001b[0m ax[\u001b[38;5;241m0\u001b[39m]\u001b[38;5;241m.\u001b[39mset_title(\u001b[38;5;124m\"\u001b[39m\u001b[38;5;124mTraffic density\u001b[39m\u001b[38;5;124m\"\u001b[39m)\n\u001b[0;32m----> 5\u001b[0m \u001b[43max\u001b[49m\u001b[43m[\u001b[49m\u001b[38;5;241;43m1\u001b[39;49m\u001b[43m]\u001b[49m\u001b[38;5;241;43m.\u001b[39;49m\u001b[43mbar\u001b[49m\u001b[43m(\u001b[49m\u001b[43mNumberOfVechicalsCategory\u001b[49m\u001b[43m,\u001b[49m\u001b[43mNumberVechicalTotal\u001b[49m\u001b[43m)\u001b[49m\n",
      "File \u001b[0;32m~/.local/lib/python3.12/site-packages/matplotlib/__init__.py:1476\u001b[0m, in \u001b[0;36m_preprocess_data.<locals>.inner\u001b[0;34m(ax, data, *args, **kwargs)\u001b[0m\n\u001b[1;32m   1473\u001b[0m \u001b[38;5;129m@functools\u001b[39m\u001b[38;5;241m.\u001b[39mwraps(func)\n\u001b[1;32m   1474\u001b[0m \u001b[38;5;28;01mdef\u001b[39;00m \u001b[38;5;21minner\u001b[39m(ax, \u001b[38;5;241m*\u001b[39margs, data\u001b[38;5;241m=\u001b[39m\u001b[38;5;28;01mNone\u001b[39;00m, \u001b[38;5;241m*\u001b[39m\u001b[38;5;241m*\u001b[39mkwargs):\n\u001b[1;32m   1475\u001b[0m     \u001b[38;5;28;01mif\u001b[39;00m data \u001b[38;5;129;01mis\u001b[39;00m \u001b[38;5;28;01mNone\u001b[39;00m:\n\u001b[0;32m-> 1476\u001b[0m         \u001b[38;5;28;01mreturn\u001b[39;00m \u001b[43mfunc\u001b[49m\u001b[43m(\u001b[49m\n\u001b[1;32m   1477\u001b[0m \u001b[43m            \u001b[49m\u001b[43max\u001b[49m\u001b[43m,\u001b[49m\n\u001b[1;32m   1478\u001b[0m \u001b[43m            \u001b[49m\u001b[38;5;241;43m*\u001b[39;49m\u001b[38;5;28;43mmap\u001b[39;49m\u001b[43m(\u001b[49m\u001b[43msanitize_sequence\u001b[49m\u001b[43m,\u001b[49m\u001b[43m \u001b[49m\u001b[43margs\u001b[49m\u001b[43m)\u001b[49m\u001b[43m,\u001b[49m\n\u001b[1;32m   1479\u001b[0m \u001b[43m            \u001b[49m\u001b[38;5;241;43m*\u001b[39;49m\u001b[38;5;241;43m*\u001b[39;49m\u001b[43m{\u001b[49m\u001b[43mk\u001b[49m\u001b[43m:\u001b[49m\u001b[43m \u001b[49m\u001b[43msanitize_sequence\u001b[49m\u001b[43m(\u001b[49m\u001b[43mv\u001b[49m\u001b[43m)\u001b[49m\u001b[43m \u001b[49m\u001b[38;5;28;43;01mfor\u001b[39;49;00m\u001b[43m \u001b[49m\u001b[43mk\u001b[49m\u001b[43m,\u001b[49m\u001b[43m \u001b[49m\u001b[43mv\u001b[49m\u001b[43m \u001b[49m\u001b[38;5;129;43;01min\u001b[39;49;00m\u001b[43m \u001b[49m\u001b[43mkwargs\u001b[49m\u001b[38;5;241;43m.\u001b[39;49m\u001b[43mitems\u001b[49m\u001b[43m(\u001b[49m\u001b[43m)\u001b[49m\u001b[43m}\u001b[49m\u001b[43m)\u001b[49m\n\u001b[1;32m   1481\u001b[0m     bound \u001b[38;5;241m=\u001b[39m new_sig\u001b[38;5;241m.\u001b[39mbind(ax, \u001b[38;5;241m*\u001b[39margs, \u001b[38;5;241m*\u001b[39m\u001b[38;5;241m*\u001b[39mkwargs)\n\u001b[1;32m   1482\u001b[0m     auto_label \u001b[38;5;241m=\u001b[39m (bound\u001b[38;5;241m.\u001b[39marguments\u001b[38;5;241m.\u001b[39mget(label_namer)\n\u001b[1;32m   1483\u001b[0m                   \u001b[38;5;129;01mor\u001b[39;00m bound\u001b[38;5;241m.\u001b[39mkwargs\u001b[38;5;241m.\u001b[39mget(label_namer))\n",
      "File \u001b[0;32m~/.local/lib/python3.12/site-packages/matplotlib/axes/_axes.py:2520\u001b[0m, in \u001b[0;36mAxes.bar\u001b[0;34m(self, x, height, width, bottom, align, **kwargs)\u001b[0m\n\u001b[1;32m   2517\u001b[0m     \u001b[38;5;28;01mif\u001b[39;00m yerr \u001b[38;5;129;01mis\u001b[39;00m \u001b[38;5;129;01mnot\u001b[39;00m \u001b[38;5;28;01mNone\u001b[39;00m:\n\u001b[1;32m   2518\u001b[0m         yerr \u001b[38;5;241m=\u001b[39m \u001b[38;5;28mself\u001b[39m\u001b[38;5;241m.\u001b[39m_convert_dx(yerr, y0, y, \u001b[38;5;28mself\u001b[39m\u001b[38;5;241m.\u001b[39mconvert_yunits)\n\u001b[0;32m-> 2520\u001b[0m x, height, width, y, linewidth, hatch \u001b[38;5;241m=\u001b[39m \u001b[43mnp\u001b[49m\u001b[38;5;241;43m.\u001b[39;49m\u001b[43mbroadcast_arrays\u001b[49m\u001b[43m(\u001b[49m\n\u001b[1;32m   2521\u001b[0m \u001b[43m    \u001b[49m\u001b[38;5;66;43;03m# Make args iterable too.\u001b[39;49;00m\n\u001b[1;32m   2522\u001b[0m \u001b[43m    \u001b[49m\u001b[43mnp\u001b[49m\u001b[38;5;241;43m.\u001b[39;49m\u001b[43matleast_1d\u001b[49m\u001b[43m(\u001b[49m\u001b[43mx\u001b[49m\u001b[43m)\u001b[49m\u001b[43m,\u001b[49m\u001b[43m \u001b[49m\u001b[43mheight\u001b[49m\u001b[43m,\u001b[49m\u001b[43m \u001b[49m\u001b[43mwidth\u001b[49m\u001b[43m,\u001b[49m\u001b[43m \u001b[49m\u001b[43my\u001b[49m\u001b[43m,\u001b[49m\u001b[43m \u001b[49m\u001b[43mlinewidth\u001b[49m\u001b[43m,\u001b[49m\u001b[43m \u001b[49m\u001b[43mhatch\u001b[49m\u001b[43m)\u001b[49m\n\u001b[1;32m   2524\u001b[0m \u001b[38;5;66;03m# Now that units have been converted, set the tick locations.\u001b[39;00m\n\u001b[1;32m   2525\u001b[0m \u001b[38;5;28;01mif\u001b[39;00m orientation \u001b[38;5;241m==\u001b[39m \u001b[38;5;124m'\u001b[39m\u001b[38;5;124mvertical\u001b[39m\u001b[38;5;124m'\u001b[39m:\n",
      "File \u001b[0;32m~/.local/lib/python3.12/site-packages/numpy/lib/_stride_tricks_impl.py:544\u001b[0m, in \u001b[0;36mbroadcast_arrays\u001b[0;34m(subok, *args)\u001b[0m\n\u001b[1;32m    537\u001b[0m \u001b[38;5;66;03m# nditer is not used here to avoid the limit of 32 arrays.\u001b[39;00m\n\u001b[1;32m    538\u001b[0m \u001b[38;5;66;03m# Otherwise, something like the following one-liner would suffice:\u001b[39;00m\n\u001b[1;32m    539\u001b[0m \u001b[38;5;66;03m# return np.nditer(args, flags=['multi_index', 'zerosize_ok'],\u001b[39;00m\n\u001b[1;32m    540\u001b[0m \u001b[38;5;66;03m#                  order='C').itviews\u001b[39;00m\n\u001b[1;32m    542\u001b[0m args \u001b[38;5;241m=\u001b[39m [np\u001b[38;5;241m.\u001b[39marray(_m, copy\u001b[38;5;241m=\u001b[39m\u001b[38;5;28;01mNone\u001b[39;00m, subok\u001b[38;5;241m=\u001b[39msubok) \u001b[38;5;28;01mfor\u001b[39;00m _m \u001b[38;5;129;01min\u001b[39;00m args]\n\u001b[0;32m--> 544\u001b[0m shape \u001b[38;5;241m=\u001b[39m \u001b[43m_broadcast_shape\u001b[49m\u001b[43m(\u001b[49m\u001b[38;5;241;43m*\u001b[39;49m\u001b[43margs\u001b[49m\u001b[43m)\u001b[49m\n\u001b[1;32m    546\u001b[0m result \u001b[38;5;241m=\u001b[39m [array \u001b[38;5;28;01mif\u001b[39;00m array\u001b[38;5;241m.\u001b[39mshape \u001b[38;5;241m==\u001b[39m shape\n\u001b[1;32m    547\u001b[0m           \u001b[38;5;28;01melse\u001b[39;00m _broadcast_to(array, shape, subok\u001b[38;5;241m=\u001b[39msubok, readonly\u001b[38;5;241m=\u001b[39m\u001b[38;5;28;01mFalse\u001b[39;00m)\n\u001b[1;32m    548\u001b[0m                           \u001b[38;5;28;01mfor\u001b[39;00m array \u001b[38;5;129;01min\u001b[39;00m args]\n\u001b[1;32m    549\u001b[0m \u001b[38;5;28;01mreturn\u001b[39;00m \u001b[38;5;28mtuple\u001b[39m(result)\n",
      "File \u001b[0;32m~/.local/lib/python3.12/site-packages/numpy/lib/_stride_tricks_impl.py:419\u001b[0m, in \u001b[0;36m_broadcast_shape\u001b[0;34m(*args)\u001b[0m\n\u001b[1;32m    414\u001b[0m \u001b[38;5;250m\u001b[39m\u001b[38;5;124;03m\"\"\"Returns the shape of the arrays that would result from broadcasting the\u001b[39;00m\n\u001b[1;32m    415\u001b[0m \u001b[38;5;124;03msupplied arrays against each other.\u001b[39;00m\n\u001b[1;32m    416\u001b[0m \u001b[38;5;124;03m\"\"\"\u001b[39;00m\n\u001b[1;32m    417\u001b[0m \u001b[38;5;66;03m# use the old-iterator because np.nditer does not handle size 0 arrays\u001b[39;00m\n\u001b[1;32m    418\u001b[0m \u001b[38;5;66;03m# consistently\u001b[39;00m\n\u001b[0;32m--> 419\u001b[0m b \u001b[38;5;241m=\u001b[39m \u001b[43mnp\u001b[49m\u001b[38;5;241;43m.\u001b[39;49m\u001b[43mbroadcast\u001b[49m\u001b[43m(\u001b[49m\u001b[38;5;241;43m*\u001b[39;49m\u001b[43margs\u001b[49m\u001b[43m[\u001b[49m\u001b[43m:\u001b[49m\u001b[38;5;241;43m32\u001b[39;49m\u001b[43m]\u001b[49m\u001b[43m)\u001b[49m\n\u001b[1;32m    420\u001b[0m \u001b[38;5;66;03m# unfortunately, it cannot handle 32 or more arguments directly\u001b[39;00m\n\u001b[1;32m    421\u001b[0m \u001b[38;5;28;01mfor\u001b[39;00m pos \u001b[38;5;129;01min\u001b[39;00m \u001b[38;5;28mrange\u001b[39m(\u001b[38;5;241m32\u001b[39m, \u001b[38;5;28mlen\u001b[39m(args), \u001b[38;5;241m31\u001b[39m):\n\u001b[1;32m    422\u001b[0m     \u001b[38;5;66;03m# ironically, np.broadcast does not properly handle np.broadcast\u001b[39;00m\n\u001b[1;32m    423\u001b[0m     \u001b[38;5;66;03m# objects (it treats them as scalars)\u001b[39;00m\n\u001b[1;32m    424\u001b[0m     \u001b[38;5;66;03m# use broadcasting to avoid allocating the full array\u001b[39;00m\n",
      "\u001b[0;31mValueError\u001b[0m: shape mismatch: objects cannot be broadcast to a single shape.  Mismatch is between arg 0 with shape (14,) and arg 1 with shape (0,)."
     ]
    },
    {
     "data": {
      "image/png": "[encoded data removed]",
      "text/plain": [
       "<Figure size 1500x600 with 2 Axes>"
      ]
     },
     "metadata": {},
     "output_type": "display_data"
    }
   ],
   "source": [
    "fig,ax=plt.subplots(1,2,figsize=(15,6))\n",
    "\n",
    "ax[0].bar(TrafficDensitylabels,traffic_density_value_total)\n",
    "ax[0].set_title(\"Traffic density\")\n",
    "ax[1].bar(NumberOfVechicalsCategory,NumberVechicalTotal)"
   ]
  },
  {
   "cell_type": "markdown",
   "metadata": {},
   "source": [
    "<h2 style=\"text-align:center>Vechicle type visualisaiton</h2>"
   ]
  },
  {
   "cell_type": "code",
   "execution_count": 116,
   "metadata": {},
   "outputs": [
    {
     "data": {
      "text/html": [
       "<div>\n",
       "<style scoped>\n",
       "    .dataframe tbody tr th:only-of-type {\n",
       "        vertical-align: middle;\n",
       "    }\n",
       "\n",
       "    .dataframe tbody tr th {\n",
       "        vertical-align: top;\n",
       "    }\n",
       "\n",
       "    .dataframe thead th {\n",
       "        text-align: right;\n",
       "    }\n",
       "</style>\n",
       "<table border=\"1\" class=\"dataframe\">\n",
       "  <thead>\n",
       "    <tr style=\"text-align: right;\">\n",
       "      <th></th>\n",
       "      <th>Weather</th>\n",
       "      <th>Road_Type</th>\n",
       "      <th>Time_of_Day</th>\n",
       "      <th>Traffic_Density</th>\n",
       "      <th>Speed_Limit</th>\n",
       "      <th>Number_of_Vehicles</th>\n",
       "      <th>Driver_Alcohol</th>\n",
       "      <th>Accident_Severity</th>\n",
       "      <th>Road_Condition</th>\n",
       "      <th>Vehicle_Type</th>\n",
       "      <th>Driver_Age</th>\n",
       "      <th>Driver_Experience</th>\n",
       "      <th>Road_Light_Condition</th>\n",
       "      <th>Accident</th>\n",
       "    </tr>\n",
       "  </thead>\n",
       "  <tbody>\n",
       "    <tr>\n",
       "      <th>2</th>\n",
       "      <td>Rainy</td>\n",
       "      <td>Highway</td>\n",
       "      <td>Evening</td>\n",
       "      <td>1</td>\n",
       "      <td>60.0</td>\n",
       "      <td>4</td>\n",
       "      <td>0</td>\n",
       "      <td>Low</td>\n",
       "      <td>Icy</td>\n",
       "      <td>Car</td>\n",
       "      <td>54</td>\n",
       "      <td>52</td>\n",
       "      <td>Artificial Light</td>\n",
       "      <td>0</td>\n",
       "    </tr>\n",
       "    <tr>\n",
       "      <th>3</th>\n",
       "      <td>Clear</td>\n",
       "      <td>City Road</td>\n",
       "      <td>Afternoon</td>\n",
       "      <td>2</td>\n",
       "      <td>60.0</td>\n",
       "      <td>3</td>\n",
       "      <td>0</td>\n",
       "      <td>Low</td>\n",
       "      <td>Under Construction</td>\n",
       "      <td>Bus</td>\n",
       "      <td>34</td>\n",
       "      <td>31</td>\n",
       "      <td>Daylight</td>\n",
       "      <td>0</td>\n",
       "    </tr>\n",
       "    <tr>\n",
       "      <th>4</th>\n",
       "      <td>Rainy</td>\n",
       "      <td>Highway</td>\n",
       "      <td>Morning</td>\n",
       "      <td>1</td>\n",
       "      <td>195.0</td>\n",
       "      <td>11</td>\n",
       "      <td>0</td>\n",
       "      <td>Low</td>\n",
       "      <td>Dry</td>\n",
       "      <td>Car</td>\n",
       "      <td>62</td>\n",
       "      <td>55</td>\n",
       "      <td>Artificial Light</td>\n",
       "      <td>1</td>\n",
       "    </tr>\n",
       "    <tr>\n",
       "      <th>6</th>\n",
       "      <td>Foggy</td>\n",
       "      <td>Highway</td>\n",
       "      <td>Afternoon</td>\n",
       "      <td>0</td>\n",
       "      <td>60.0</td>\n",
       "      <td>4</td>\n",
       "      <td>0</td>\n",
       "      <td>Low</td>\n",
       "      <td>Dry</td>\n",
       "      <td>Truck</td>\n",
       "      <td>27</td>\n",
       "      <td>26</td>\n",
       "      <td>Daylight</td>\n",
       "      <td>1</td>\n",
       "    </tr>\n",
       "    <tr>\n",
       "      <th>7</th>\n",
       "      <td>Rainy</td>\n",
       "      <td>City Road</td>\n",
       "      <td>Afternoon</td>\n",
       "      <td>0</td>\n",
       "      <td>60.0</td>\n",
       "      <td>4</td>\n",
       "      <td>0</td>\n",
       "      <td>Low</td>\n",
       "      <td>Dry</td>\n",
       "      <td>Car</td>\n",
       "      <td>29</td>\n",
       "      <td>22</td>\n",
       "      <td>Artificial Light</td>\n",
       "      <td>1</td>\n",
       "    </tr>\n",
       "  </tbody>\n",
       "</table>\n",
       "</div>"
      ],
      "text/plain": [
       "  Weather  Road_Type Time_of_Day  Traffic_Density  Speed_Limit  \\\n",
       "2   Rainy    Highway     Evening                1         60.0   \n",
       "3   Clear  City Road   Afternoon                2         60.0   \n",
       "4   Rainy    Highway     Morning                1        195.0   \n",
       "6   Foggy    Highway   Afternoon                0         60.0   \n",
       "7   Rainy  City Road   Afternoon                0         60.0   \n",
       "\n",
       "   Number_of_Vehicles  Driver_Alcohol Accident_Severity      Road_Condition  \\\n",
       "2                   4               0               Low                 Icy   \n",
       "3                   3               0               Low  Under Construction   \n",
       "4                  11               0               Low                 Dry   \n",
       "6                   4               0               Low                 Dry   \n",
       "7                   4               0               Low                 Dry   \n",
       "\n",
       "  Vehicle_Type  Driver_Age  Driver_Experience Road_Light_Condition  Accident  \n",
       "2          Car          54                 52     Artificial Light         0  \n",
       "3          Bus          34                 31             Daylight         0  \n",
       "4          Car          62                 55     Artificial Light         1  \n",
       "6        Truck          27                 26             Daylight         1  \n",
       "7          Car          29                 22     Artificial Light         1  "
      ]
     },
     "execution_count": 116,
     "metadata": {},
     "output_type": "execute_result"
    }
   ],
   "source": [
    "data.head()"
   ]
  },
  {
   "cell_type": "code",
   "execution_count": null,
   "metadata": {},
   "outputs": [],
   "source": []
  }
 ],
 "metadata": {
  "kernelspec": {
   "display_name": "Python 3 (ipykernel)",
   "language": "python",
   "name": "python3"
  },
  "language_info": {
   "codemirror_mode": {
    "name": "ipython",
    "version": 3
   },
   "file_extension": ".py",
   "mimetype": "text/x-python",
   "name": "python",
   "nbconvert_exporter": "python",
   "pygments_lexer": "ipython3",
   "version": "3.12.1"
  }
 },
 "nbformat": 4,
 "nbformat_minor": 4
}
